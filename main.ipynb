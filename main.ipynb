{
 "metadata": {
  "language_info": {
   "codemirror_mode": {
    "name": "ipython",
    "version": 3
   },
   "file_extension": ".py",
   "mimetype": "text/x-python",
   "name": "python",
   "nbconvert_exporter": "python",
   "pygments_lexer": "ipython3",
   "version": "3.8.5-final"
  },
  "orig_nbformat": 2,
  "kernelspec": {
   "name": "python385jvsc74a57bd0f9188faac7fea9a2f010eaff4c6eafecb88a16ef6f080704caa2a40b3f7a3185",
   "display_name": "Python 3.8.5 64-bit ('base': conda)"
  },
  "metadata": {
   "interpreter": {
    "hash": "f9188faac7fea9a2f010eaff4c6eafecb88a16ef6f080704caa2a40b3f7a3185"
   }
  }
 },
 "nbformat": 4,
 "nbformat_minor": 2,
 "cells": [
  {
   "source": [
    "# L44 Tweet Emotion Classification Project"
   ],
   "cell_type": "markdown",
   "metadata": {}
  },
  {
   "cell_type": "code",
   "execution_count": 1,
   "metadata": {},
   "outputs": [
    {
     "output_type": "stream",
     "name": "stderr",
     "text": [
      "/Users/zebulon/miniconda3/lib/python3.8/site-packages/gensim/similarities/__init__.py:15: UserWarning: The gensim.similarities.levenshtein submodule is disabled, because the optional Levenshtein package <https://pypi.org/project/python-Levenshtein/> is unavailable. Install Levenhstein (e.g. `pip install python-Levenshtein`) to suppress this warning.\n  warnings.warn(msg)\n"
     ]
    }
   ],
   "source": [
    "# Import everything that will be used\n",
    "from keras.models import Sequential\n",
    "from keras.layers import *\n",
    "from keras.regularizers import l2\n",
    "from keras.preprocessing.sequence import pad_sequences\n",
    "import gensim\n",
    "import sys\n",
    "import numpy as np\n",
    "import pandas as pd\n",
    "import string\n",
    "import logging\n",
    "import random\n",
    "import matplotlib.pyplot as plt\n",
    "from sklearn.metrics import precision_score, recall_score, f1_score"
   ]
  },
  {
   "cell_type": "code",
   "execution_count": 2,
   "metadata": {},
   "outputs": [],
   "source": [
    "# Prepare constants\n",
    "SELECTED_DATA = \"semeval\"\n",
    "SELECTED_VECTOR_TYPES = [\"fasttext\", \"affectvec\"]\n",
    "\n",
    "SSEC_TEST_FILENAME = \"data/ssec-aggregated/test-combined-0.0.csv\"\n",
    "SSEC_TRAIN_FILENAME = \"data/ssec-aggregated/train-combined-0.0.csv\"\n",
    "CROWDFLOWER_FILENAME = \"data/crowdflower.csv\"\n",
    "TEC_FILENAME = \"data/Jan9-2012-tweets-clean.txt\"\n",
    "SEMEVAL_VAL_FILENAME = \"data/SemEval2018-Task1-all-data/English/E-c/2018-E-c-En-dev.txt\"\n",
    "SEMEVAL_TEST_FILENAME = \"data/SemEval2018-Task1-all-data/English/E-c/2018-E-c-En-test-gold.txt\"\n",
    "SEMEVAL_TRAIN_FILENAME = \"data/SemEval2018-Task1-all-data/English/E-c/2018-E-c-En-train.txt\"\n",
    "\n",
    "VECTOR_FILENAMES = {\"word2vec\" : \"vectors/word2vec/GoogleNews-vectors-negative300.bin\",\n",
    "                    \"affectvec\" : \"vectors/AffectVec-v1.0-vectors/AffectVec-data.txt\",\n",
    "                    \"fasttext\" : \"vectors/fasttext/crawl-300d-2M.vec\",\n",
    "                    \"glove\" : \"vectors/glove/glove.twitter.27B.200d.txt\"}\n",
    "\n",
    "TEST_PER, VALID_PER = 0.2, 0.1"
   ]
  },
  {
   "source": [
    "## Load Raw Data\n",
    "\n",
    "Load datasets and split into training and testing sets."
   ],
   "cell_type": "markdown",
   "metadata": {}
  },
  {
   "cell_type": "code",
   "execution_count": 3,
   "metadata": {},
   "outputs": [
    {
     "output_type": "stream",
     "name": "stdout",
     "text": [
      "                                                 tweet  \\\n0    [adnan__, asyounotwish, dont, worry, indian, a...   \n1    [academy, of, sciences, eschews, the, normally...   \n2                       [blew, that, opportunity, mad]   \n3                    [this, time, in, weeks, will, be]   \n4    [deppression, is, real, partners, depressed, p...   \n..                                                 ...   \n881  [badhombrenps, secretaryperry, if, this, didn,...   \n882  [excited, to, watch, stateoforigin, tonight, c...   \n883  [blah, blah, blah, kyrie, it, etc, cjc, boss, ...   \n884  [the, wise, shepherd, never, trusts, his, floc...   \n885  [am, really, flattered, and, happy, to, hear, ...   \n\n                                    emotion  \n0    [anger, anticipation, optimism, trust]  \n1                                 [disgust]  \n2                 [anger, disgust, sadness]  \n3                            [joy, sadness]  \n4                           [fear, sadness]  \n..                                      ...  \n881                        [anger, disgust]  \n882                         [joy, optimism]  \n883               [anger, disgust, sadness]  \n884                                      []  \n885                         [joy, optimism]  \n\n[10983 rows x 2 columns]\n"
     ]
    }
   ],
   "source": [
    "random.seed(1)\n",
    "\n",
    "if SELECTED_DATA == \"crowdflower\":\n",
    "    df = pd.read_csv(CROWDFLOWER_FILENAME)\n",
    "    df.rename(columns={'sentiment':'emotion', 'content':'tweet'}, inplace=True)\n",
    "    df['tweet'] = df['tweet'].map(lambda tweet : list(gensim.utils.simple_preprocess(tweet)))\n",
    "    del df['tweet_id']\n",
    "    del df['author']\n",
    "\n",
    "    # Delete tweets labelled with emotions that occur less than 1000 times\n",
    "    emotions, ccount = np.unique(df.emotion, return_counts=True)\n",
    "    for emotion, count in zip(emotions, ccount):\n",
    "        if count < 1500:\n",
    "            df.drop(df[df['emotion'] == emotion].index, inplace=True)\n",
    "    \n",
    "    # Split into train and test\n",
    "    total_samples = df.shape[0]\n",
    "    n_test = int(TEST_PER * total_samples)\n",
    "    n_train = total_samples - n_test\n",
    "    random_i = random.sample(range(total_samples), total_samples)\n",
    "    df_train = df.iloc[random_i[:n_train]]\n",
    "    df_test = df.iloc[random_i[n_train:n_train+n_test]]\n",
    "\n",
    "elif SELECTED_DATA  == \"tec\":\n",
    "    with open(TEC_FILENAME, 'r') as tec_file:\n",
    "        lines = []\n",
    "        for line in tec_file:\n",
    "            components = line.split('::')\n",
    "            tweet = '::'.join(components[:-1])[20:].strip()\n",
    "            tweet = list(gensim.utils.simple_preprocess(tweet))\n",
    "            emotion = components[-1].strip()\n",
    "            lines.append([tweet, emotion])\n",
    "    df = pd.DataFrame(lines, columns=[\"tweet\", \"emotion\"])\n",
    "\n",
    "    # Split into train and test\n",
    "    total_samples = df.shape[0]\n",
    "    n_test = int(TEST_PER * total_samples)\n",
    "    n_train = total_samples - n_test\n",
    "    random_i = random.sample(range(total_samples), total_samples)\n",
    "    df_train = df.iloc[random_i[:n_train]]\n",
    "    df_test = df.iloc[random_i[n_train:n_train+n_test]]\n",
    "\n",
    "elif SELECTED_DATA == \"ssec\":\n",
    "    def get_df(filename):\n",
    "        with open(filename, 'r') as file:\n",
    "            lines = []\n",
    "            for line in file:\n",
    "                components = line.split('\\t')\n",
    "                tweet = list(gensim.utils.simple_preprocess(\"\\t\".join(components[8:])))\n",
    "                emotions = [c.lower() for c in components[:8] if c != \"---\"]\n",
    "            return pd.DataFrame(lines, columns=[\"tweet\", \"emotion\"])\n",
    "\n",
    "    # Get train and test dataframes\n",
    "    df_test = get_df(SSEC_TEST_FILENAME)\n",
    "    df_train = get_df(SSEC_TRAIN_FILENAME)\n",
    "    df = df_test.append(df_train)\n",
    "\n",
    "elif SELECTED_DATA == \"semeval\":\n",
    "    emotions = [\"anger\", \"anticipation\", \"disgust\", \"fear\", \"joy\", \"love\", \"optimism\", \"pessimism\", \"sadness\", \"surprise\", \"trust\"]\n",
    "    def get_df(filename):\n",
    "        df = pd.read_csv(filename, sep='\\t')\n",
    "        df.rename(columns={'Tweet':'tweet'}, inplace=True)\n",
    "        df['emotion'] = ''\n",
    "        for emotion in emotions:\n",
    "            df['emotion'] = df['emotion'] + df[emotion].map(lambda r : emotion + ' ' if r else '')\n",
    "        df['emotion'] = df['emotion'].map(lambda e : e.strip().split(' '))\n",
    "        df['tweet'] = df['tweet'].map(lambda t : list(gensim.utils.simple_preprocess(t)))\n",
    "        return df[['tweet', 'emotion']]\n",
    "    df_test = get_df(SEMEVAL_TEST_FILENAME)\n",
    "    df_train = get_df(SEMEVAL_TRAIN_FILENAME)\n",
    "    df_val = get_df(SEMEVAL_VAL_FILENAME)\n",
    "    df = df_test.append(df_train)\n",
    "    df = df.append(df_val)\n",
    "\n",
    "print(df)"
   ]
  },
  {
   "cell_type": "code",
   "execution_count": 4,
   "metadata": {},
   "outputs": [
    {
     "output_type": "display_data",
     "data": {
      "text/plain": "<Figure size 432x288 with 1 Axes>",
      "image/svg+xml": "<?xml version=\"1.0\" encoding=\"utf-8\" standalone=\"no\"?>\n<!DOCTYPE svg PUBLIC \"-//W3C//DTD SVG 1.1//EN\"\n  \"http://www.w3.org/Graphics/SVG/1.1/DTD/svg11.dtd\">\n<svg height=\"302.571716pt\" version=\"1.1\" viewBox=\"0 0 381.65 302.571716\" width=\"381.65pt\" xmlns=\"http://www.w3.org/2000/svg\" xmlns:xlink=\"http://www.w3.org/1999/xlink\">\n <metadata>\n  <rdf:RDF xmlns:cc=\"http://creativecommons.org/ns#\" xmlns:dc=\"http://purl.org/dc/elements/1.1/\" xmlns:rdf=\"http://www.w3.org/1999/02/22-rdf-syntax-ns#\">\n   <cc:Work>\n    <dc:type rdf:resource=\"http://purl.org/dc/dcmitype/StillImage\"/>\n    <dc:date>2021-04-11T16:55:23.563621</dc:date>\n    <dc:format>image/svg+xml</dc:format>\n    <dc:creator>\n     <cc:Agent>\n      <dc:title>Matplotlib v3.4.1, https://matplotlib.org/</dc:title>\n     </cc:Agent>\n    </dc:creator>\n   </cc:Work>\n  </rdf:RDF>\n </metadata>\n <defs>\n  <style type=\"text/css\">*{stroke-linecap:butt;stroke-linejoin:round;}</style>\n </defs>\n <g id=\"figure_1\">\n  <g id=\"patch_1\">\n   <path d=\"M -0 302.571716 \nL 381.65 302.571716 \nL 381.65 0 \nL -0 0 \nz\n\" style=\"fill:none;\"/>\n  </g>\n  <g id=\"axes_1\">\n   <g id=\"patch_2\">\n    <path d=\"M 39.65 239.758125 \nL 374.45 239.758125 \nL 374.45 22.318125 \nL 39.65 22.318125 \nz\n\" style=\"fill:#ffffff;\"/>\n   </g>\n   <g id=\"patch_3\">\n    <path clip-path=\"url(#pf6304899d4)\" d=\"M 54.868182 239.758125 \nL 77.413636 239.758125 \nL 77.413636 49.885602 \nL 54.868182 49.885602 \nz\n\" style=\"fill:#1f77b4;\"/>\n   </g>\n   <g id=\"patch_4\">\n    <path clip-path=\"url(#pf6304899d4)\" d=\"M 83.05 239.758125 \nL 105.595455 239.758125 \nL 105.595455 166.542129 \nL 83.05 166.542129 \nz\n\" style=\"fill:#1f77b4;\"/>\n   </g>\n   <g id=\"patch_5\">\n    <path clip-path=\"url(#pf6304899d4)\" d=\"M 111.231818 239.758125 \nL 133.777273 239.758125 \nL 133.777273 47.008745 \nL 111.231818 47.008745 \nz\n\" style=\"fill:#1f77b4;\"/>\n   </g>\n   <g id=\"patch_6\">\n    <path clip-path=\"url(#pf6304899d4)\" d=\"M 139.413636 239.758125 \nL 161.959091 239.758125 \nL 161.959091 151.150947 \nL 139.413636 151.150947 \nz\n\" style=\"fill:#1f77b4;\"/>\n   </g>\n   <g id=\"patch_7\">\n    <path clip-path=\"url(#pf6304899d4)\" d=\"M 167.595455 239.758125 \nL 190.140909 239.758125 \nL 190.140909 32.672411 \nL 167.595455 32.672411 \nz\n\" style=\"fill:#1f77b4;\"/>\n   </g>\n   <g id=\"patch_8\">\n    <path clip-path=\"url(#pf6304899d4)\" d=\"M 195.777273 239.758125 \nL 218.322727 239.758125 \nL 218.322727 175.124751 \nL 195.777273 175.124751 \nz\n\" style=\"fill:#1f77b4;\"/>\n   </g>\n   <g id=\"patch_9\">\n    <path clip-path=\"url(#pf6304899d4)\" d=\"M 223.959091 239.758125 \nL 246.504545 239.758125 \nL 246.504545 75.106043 \nL 223.959091 75.106043 \nz\n\" style=\"fill:#1f77b4;\"/>\n   </g>\n   <g id=\"patch_10\">\n    <path clip-path=\"url(#pf6304899d4)\" d=\"M 252.140909 239.758125 \nL 274.686364 239.758125 \nL 274.686364 178.864664 \nL 252.140909 178.864664 \nz\n\" style=\"fill:#1f77b4;\"/>\n   </g>\n   <g id=\"patch_11\">\n    <path clip-path=\"url(#pf6304899d4)\" d=\"M 280.322727 239.758125 \nL 302.868182 239.758125 \nL 302.868182 84.743512 \nL 280.322727 84.743512 \nz\n\" style=\"fill:#1f77b4;\"/>\n   </g>\n   <g id=\"patch_12\">\n    <path clip-path=\"url(#pf6304899d4)\" d=\"M 308.504545 239.758125 \nL 331.05 239.758125 \nL 331.05 212.619779 \nL 308.504545 212.619779 \nz\n\" style=\"fill:#1f77b4;\"/>\n   </g>\n   <g id=\"patch_13\">\n    <path clip-path=\"url(#pf6304899d4)\" d=\"M 336.686364 239.758125 \nL 359.231818 239.758125 \nL 359.231818 213.243098 \nL 336.686364 213.243098 \nz\n\" style=\"fill:#1f77b4;\"/>\n   </g>\n   <g id=\"matplotlib.axis_1\">\n    <g id=\"xtick_1\">\n     <g id=\"line2d_1\">\n      <defs>\n       <path d=\"M 0 0 \nL 0 3.5 \n\" id=\"m67b0b7413c\" style=\"stroke:#000000;stroke-width:0.8;\"/>\n      </defs>\n      <g>\n       <use style=\"stroke:#000000;stroke-width:0.8;\" x=\"66.140909\" xlink:href=\"#m67b0b7413c\" y=\"239.758125\"/>\n      </g>\n     </g>\n     <g id=\"text_1\">\n      <!-- anger -->\n      <g transform=\"translate(57.811412 272.692371)rotate(-45)scale(0.1 -0.1)\">\n       <defs>\n        <path d=\"M 2194 1759 \nQ 1497 1759 1228 1600 \nQ 959 1441 959 1056 \nQ 959 750 1161 570 \nQ 1363 391 1709 391 \nQ 2188 391 2477 730 \nQ 2766 1069 2766 1631 \nL 2766 1759 \nL 2194 1759 \nz\nM 3341 1997 \nL 3341 0 \nL 2766 0 \nL 2766 531 \nQ 2569 213 2275 61 \nQ 1981 -91 1556 -91 \nQ 1019 -91 701 211 \nQ 384 513 384 1019 \nQ 384 1609 779 1909 \nQ 1175 2209 1959 2209 \nL 2766 2209 \nL 2766 2266 \nQ 2766 2663 2505 2880 \nQ 2244 3097 1772 3097 \nQ 1472 3097 1187 3025 \nQ 903 2953 641 2809 \nL 641 3341 \nQ 956 3463 1253 3523 \nQ 1550 3584 1831 3584 \nQ 2591 3584 2966 3190 \nQ 3341 2797 3341 1997 \nz\n\" id=\"DejaVuSans-61\" transform=\"scale(0.015625)\"/>\n        <path d=\"M 3513 2113 \nL 3513 0 \nL 2938 0 \nL 2938 2094 \nQ 2938 2591 2744 2837 \nQ 2550 3084 2163 3084 \nQ 1697 3084 1428 2787 \nQ 1159 2491 1159 1978 \nL 1159 0 \nL 581 0 \nL 581 3500 \nL 1159 3500 \nL 1159 2956 \nQ 1366 3272 1645 3428 \nQ 1925 3584 2291 3584 \nQ 2894 3584 3203 3211 \nQ 3513 2838 3513 2113 \nz\n\" id=\"DejaVuSans-6e\" transform=\"scale(0.015625)\"/>\n        <path d=\"M 2906 1791 \nQ 2906 2416 2648 2759 \nQ 2391 3103 1925 3103 \nQ 1463 3103 1205 2759 \nQ 947 2416 947 1791 \nQ 947 1169 1205 825 \nQ 1463 481 1925 481 \nQ 2391 481 2648 825 \nQ 2906 1169 2906 1791 \nz\nM 3481 434 \nQ 3481 -459 3084 -895 \nQ 2688 -1331 1869 -1331 \nQ 1566 -1331 1297 -1286 \nQ 1028 -1241 775 -1147 \nL 775 -588 \nQ 1028 -725 1275 -790 \nQ 1522 -856 1778 -856 \nQ 2344 -856 2625 -561 \nQ 2906 -266 2906 331 \nL 2906 616 \nQ 2728 306 2450 153 \nQ 2172 0 1784 0 \nQ 1141 0 747 490 \nQ 353 981 353 1791 \nQ 353 2603 747 3093 \nQ 1141 3584 1784 3584 \nQ 2172 3584 2450 3431 \nQ 2728 3278 2906 2969 \nL 2906 3500 \nL 3481 3500 \nL 3481 434 \nz\n\" id=\"DejaVuSans-67\" transform=\"scale(0.015625)\"/>\n        <path d=\"M 3597 1894 \nL 3597 1613 \nL 953 1613 \nQ 991 1019 1311 708 \nQ 1631 397 2203 397 \nQ 2534 397 2845 478 \nQ 3156 559 3463 722 \nL 3463 178 \nQ 3153 47 2828 -22 \nQ 2503 -91 2169 -91 \nQ 1331 -91 842 396 \nQ 353 884 353 1716 \nQ 353 2575 817 3079 \nQ 1281 3584 2069 3584 \nQ 2775 3584 3186 3129 \nQ 3597 2675 3597 1894 \nz\nM 3022 2063 \nQ 3016 2534 2758 2815 \nQ 2500 3097 2075 3097 \nQ 1594 3097 1305 2825 \nQ 1016 2553 972 2059 \nL 3022 2063 \nz\n\" id=\"DejaVuSans-65\" transform=\"scale(0.015625)\"/>\n        <path d=\"M 2631 2963 \nQ 2534 3019 2420 3045 \nQ 2306 3072 2169 3072 \nQ 1681 3072 1420 2755 \nQ 1159 2438 1159 1844 \nL 1159 0 \nL 581 0 \nL 581 3500 \nL 1159 3500 \nL 1159 2956 \nQ 1341 3275 1631 3429 \nQ 1922 3584 2338 3584 \nQ 2397 3584 2469 3576 \nQ 2541 3569 2628 3553 \nL 2631 2963 \nz\n\" id=\"DejaVuSans-72\" transform=\"scale(0.015625)\"/>\n       </defs>\n       <use xlink:href=\"#DejaVuSans-61\"/>\n       <use x=\"61.279297\" xlink:href=\"#DejaVuSans-6e\"/>\n       <use x=\"124.658203\" xlink:href=\"#DejaVuSans-67\"/>\n       <use x=\"188.134766\" xlink:href=\"#DejaVuSans-65\"/>\n       <use x=\"249.658203\" xlink:href=\"#DejaVuSans-72\"/>\n      </g>\n     </g>\n    </g>\n    <g id=\"xtick_2\">\n     <g id=\"line2d_2\">\n      <g>\n       <use style=\"stroke:#000000;stroke-width:0.8;\" x=\"94.322727\" xlink:href=\"#m67b0b7413c\" y=\"239.758125\"/>\n      </g>\n     </g>\n     <g id=\"text_2\">\n      <!-- anticipation -->\n      <g transform=\"translate(75.388838 293.901155)rotate(-45)scale(0.1 -0.1)\">\n       <defs>\n        <path d=\"M 1172 4494 \nL 1172 3500 \nL 2356 3500 \nL 2356 3053 \nL 1172 3053 \nL 1172 1153 \nQ 1172 725 1289 603 \nQ 1406 481 1766 481 \nL 2356 481 \nL 2356 0 \nL 1766 0 \nQ 1100 0 847 248 \nQ 594 497 594 1153 \nL 594 3053 \nL 172 3053 \nL 172 3500 \nL 594 3500 \nL 594 4494 \nL 1172 4494 \nz\n\" id=\"DejaVuSans-74\" transform=\"scale(0.015625)\"/>\n        <path d=\"M 603 3500 \nL 1178 3500 \nL 1178 0 \nL 603 0 \nL 603 3500 \nz\nM 603 4863 \nL 1178 4863 \nL 1178 4134 \nL 603 4134 \nL 603 4863 \nz\n\" id=\"DejaVuSans-69\" transform=\"scale(0.015625)\"/>\n        <path d=\"M 3122 3366 \nL 3122 2828 \nQ 2878 2963 2633 3030 \nQ 2388 3097 2138 3097 \nQ 1578 3097 1268 2742 \nQ 959 2388 959 1747 \nQ 959 1106 1268 751 \nQ 1578 397 2138 397 \nQ 2388 397 2633 464 \nQ 2878 531 3122 666 \nL 3122 134 \nQ 2881 22 2623 -34 \nQ 2366 -91 2075 -91 \nQ 1284 -91 818 406 \nQ 353 903 353 1747 \nQ 353 2603 823 3093 \nQ 1294 3584 2113 3584 \nQ 2378 3584 2631 3529 \nQ 2884 3475 3122 3366 \nz\n\" id=\"DejaVuSans-63\" transform=\"scale(0.015625)\"/>\n        <path d=\"M 1159 525 \nL 1159 -1331 \nL 581 -1331 \nL 581 3500 \nL 1159 3500 \nL 1159 2969 \nQ 1341 3281 1617 3432 \nQ 1894 3584 2278 3584 \nQ 2916 3584 3314 3078 \nQ 3713 2572 3713 1747 \nQ 3713 922 3314 415 \nQ 2916 -91 2278 -91 \nQ 1894 -91 1617 61 \nQ 1341 213 1159 525 \nz\nM 3116 1747 \nQ 3116 2381 2855 2742 \nQ 2594 3103 2138 3103 \nQ 1681 3103 1420 2742 \nQ 1159 2381 1159 1747 \nQ 1159 1113 1420 752 \nQ 1681 391 2138 391 \nQ 2594 391 2855 752 \nQ 3116 1113 3116 1747 \nz\n\" id=\"DejaVuSans-70\" transform=\"scale(0.015625)\"/>\n        <path d=\"M 1959 3097 \nQ 1497 3097 1228 2736 \nQ 959 2375 959 1747 \nQ 959 1119 1226 758 \nQ 1494 397 1959 397 \nQ 2419 397 2687 759 \nQ 2956 1122 2956 1747 \nQ 2956 2369 2687 2733 \nQ 2419 3097 1959 3097 \nz\nM 1959 3584 \nQ 2709 3584 3137 3096 \nQ 3566 2609 3566 1747 \nQ 3566 888 3137 398 \nQ 2709 -91 1959 -91 \nQ 1206 -91 779 398 \nQ 353 888 353 1747 \nQ 353 2609 779 3096 \nQ 1206 3584 1959 3584 \nz\n\" id=\"DejaVuSans-6f\" transform=\"scale(0.015625)\"/>\n       </defs>\n       <use xlink:href=\"#DejaVuSans-61\"/>\n       <use x=\"61.279297\" xlink:href=\"#DejaVuSans-6e\"/>\n       <use x=\"124.658203\" xlink:href=\"#DejaVuSans-74\"/>\n       <use x=\"163.867188\" xlink:href=\"#DejaVuSans-69\"/>\n       <use x=\"191.650391\" xlink:href=\"#DejaVuSans-63\"/>\n       <use x=\"246.630859\" xlink:href=\"#DejaVuSans-69\"/>\n       <use x=\"274.414062\" xlink:href=\"#DejaVuSans-70\"/>\n       <use x=\"337.890625\" xlink:href=\"#DejaVuSans-61\"/>\n       <use x=\"399.169922\" xlink:href=\"#DejaVuSans-74\"/>\n       <use x=\"438.378906\" xlink:href=\"#DejaVuSans-69\"/>\n       <use x=\"466.162109\" xlink:href=\"#DejaVuSans-6f\"/>\n       <use x=\"527.34375\" xlink:href=\"#DejaVuSans-6e\"/>\n      </g>\n     </g>\n    </g>\n    <g id=\"xtick_3\">\n     <g id=\"line2d_3\">\n      <g>\n       <use style=\"stroke:#000000;stroke-width:0.8;\" x=\"122.504545\" xlink:href=\"#m67b0b7413c\" y=\"239.758125\"/>\n      </g>\n     </g>\n     <g id=\"text_3\">\n      <!-- disgust -->\n      <g transform=\"translate(111.674211 277.694047)rotate(-45)scale(0.1 -0.1)\">\n       <defs>\n        <path d=\"M 2906 2969 \nL 2906 4863 \nL 3481 4863 \nL 3481 0 \nL 2906 0 \nL 2906 525 \nQ 2725 213 2448 61 \nQ 2172 -91 1784 -91 \nQ 1150 -91 751 415 \nQ 353 922 353 1747 \nQ 353 2572 751 3078 \nQ 1150 3584 1784 3584 \nQ 2172 3584 2448 3432 \nQ 2725 3281 2906 2969 \nz\nM 947 1747 \nQ 947 1113 1208 752 \nQ 1469 391 1925 391 \nQ 2381 391 2643 752 \nQ 2906 1113 2906 1747 \nQ 2906 2381 2643 2742 \nQ 2381 3103 1925 3103 \nQ 1469 3103 1208 2742 \nQ 947 2381 947 1747 \nz\n\" id=\"DejaVuSans-64\" transform=\"scale(0.015625)\"/>\n        <path d=\"M 2834 3397 \nL 2834 2853 \nQ 2591 2978 2328 3040 \nQ 2066 3103 1784 3103 \nQ 1356 3103 1142 2972 \nQ 928 2841 928 2578 \nQ 928 2378 1081 2264 \nQ 1234 2150 1697 2047 \nL 1894 2003 \nQ 2506 1872 2764 1633 \nQ 3022 1394 3022 966 \nQ 3022 478 2636 193 \nQ 2250 -91 1575 -91 \nQ 1294 -91 989 -36 \nQ 684 19 347 128 \nL 347 722 \nQ 666 556 975 473 \nQ 1284 391 1588 391 \nQ 1994 391 2212 530 \nQ 2431 669 2431 922 \nQ 2431 1156 2273 1281 \nQ 2116 1406 1581 1522 \nL 1381 1569 \nQ 847 1681 609 1914 \nQ 372 2147 372 2553 \nQ 372 3047 722 3315 \nQ 1072 3584 1716 3584 \nQ 2034 3584 2315 3537 \nQ 2597 3491 2834 3397 \nz\n\" id=\"DejaVuSans-73\" transform=\"scale(0.015625)\"/>\n        <path d=\"M 544 1381 \nL 544 3500 \nL 1119 3500 \nL 1119 1403 \nQ 1119 906 1312 657 \nQ 1506 409 1894 409 \nQ 2359 409 2629 706 \nQ 2900 1003 2900 1516 \nL 2900 3500 \nL 3475 3500 \nL 3475 0 \nL 2900 0 \nL 2900 538 \nQ 2691 219 2414 64 \nQ 2138 -91 1772 -91 \nQ 1169 -91 856 284 \nQ 544 659 544 1381 \nz\nM 1991 3584 \nL 1991 3584 \nz\n\" id=\"DejaVuSans-75\" transform=\"scale(0.015625)\"/>\n       </defs>\n       <use xlink:href=\"#DejaVuSans-64\"/>\n       <use x=\"63.476562\" xlink:href=\"#DejaVuSans-69\"/>\n       <use x=\"91.259766\" xlink:href=\"#DejaVuSans-73\"/>\n       <use x=\"143.359375\" xlink:href=\"#DejaVuSans-67\"/>\n       <use x=\"206.835938\" xlink:href=\"#DejaVuSans-75\"/>\n       <use x=\"270.214844\" xlink:href=\"#DejaVuSans-73\"/>\n       <use x=\"322.314453\" xlink:href=\"#DejaVuSans-74\"/>\n      </g>\n     </g>\n    </g>\n    <g id=\"xtick_4\">\n     <g id=\"line2d_4\">\n      <g>\n       <use style=\"stroke:#000000;stroke-width:0.8;\" x=\"150.686364\" xlink:href=\"#m67b0b7413c\" y=\"239.758125\"/>\n      </g>\n     </g>\n     <g id=\"text_4\">\n      <!-- fear -->\n      <g transform=\"translate(145.597405 266.211295)rotate(-45)scale(0.1 -0.1)\">\n       <defs>\n        <path d=\"M 2375 4863 \nL 2375 4384 \nL 1825 4384 \nQ 1516 4384 1395 4259 \nQ 1275 4134 1275 3809 \nL 1275 3500 \nL 2222 3500 \nL 2222 3053 \nL 1275 3053 \nL 1275 0 \nL 697 0 \nL 697 3053 \nL 147 3053 \nL 147 3500 \nL 697 3500 \nL 697 3744 \nQ 697 4328 969 4595 \nQ 1241 4863 1831 4863 \nL 2375 4863 \nz\n\" id=\"DejaVuSans-66\" transform=\"scale(0.015625)\"/>\n       </defs>\n       <use xlink:href=\"#DejaVuSans-66\"/>\n       <use x=\"35.205078\" xlink:href=\"#DejaVuSans-65\"/>\n       <use x=\"96.728516\" xlink:href=\"#DejaVuSans-61\"/>\n       <use x=\"158.007812\" xlink:href=\"#DejaVuSans-72\"/>\n      </g>\n     </g>\n    </g>\n    <g id=\"xtick_5\">\n     <g id=\"line2d_5\">\n      <g>\n       <use style=\"stroke:#000000;stroke-width:0.8;\" x=\"178.868182\" xlink:href=\"#m67b0b7413c\" y=\"239.758125\"/>\n      </g>\n     </g>\n     <g id=\"text_5\">\n      <!-- joy -->\n      <g transform=\"translate(175.58124 262.607261)rotate(-45)scale(0.1 -0.1)\">\n       <defs>\n        <path d=\"M 603 3500 \nL 1178 3500 \nL 1178 -63 \nQ 1178 -731 923 -1031 \nQ 669 -1331 103 -1331 \nL -116 -1331 \nL -116 -844 \nL 38 -844 \nQ 366 -844 484 -692 \nQ 603 -541 603 -63 \nL 603 3500 \nz\nM 603 4863 \nL 1178 4863 \nL 1178 4134 \nL 603 4134 \nL 603 4863 \nz\n\" id=\"DejaVuSans-6a\" transform=\"scale(0.015625)\"/>\n        <path d=\"M 2059 -325 \nQ 1816 -950 1584 -1140 \nQ 1353 -1331 966 -1331 \nL 506 -1331 \nL 506 -850 \nL 844 -850 \nQ 1081 -850 1212 -737 \nQ 1344 -625 1503 -206 \nL 1606 56 \nL 191 3500 \nL 800 3500 \nL 1894 763 \nL 2988 3500 \nL 3597 3500 \nL 2059 -325 \nz\n\" id=\"DejaVuSans-79\" transform=\"scale(0.015625)\"/>\n       </defs>\n       <use xlink:href=\"#DejaVuSans-6a\"/>\n       <use x=\"27.783203\" xlink:href=\"#DejaVuSans-6f\"/>\n       <use x=\"88.964844\" xlink:href=\"#DejaVuSans-79\"/>\n      </g>\n     </g>\n    </g>\n    <g id=\"xtick_6\">\n     <g id=\"line2d_6\">\n      <g>\n       <use style=\"stroke:#000000;stroke-width:0.8;\" x=\"207.05\" xlink:href=\"#m67b0b7413c\" y=\"239.758125\"/>\n      </g>\n     </g>\n     <g id=\"text_6\">\n      <!-- love -->\n      <g transform=\"translate(201.5876 266.958177)rotate(-45)scale(0.1 -0.1)\">\n       <defs>\n        <path d=\"M 603 4863 \nL 1178 4863 \nL 1178 0 \nL 603 0 \nL 603 4863 \nz\n\" id=\"DejaVuSans-6c\" transform=\"scale(0.015625)\"/>\n        <path d=\"M 191 3500 \nL 800 3500 \nL 1894 563 \nL 2988 3500 \nL 3597 3500 \nL 2284 0 \nL 1503 0 \nL 191 3500 \nz\n\" id=\"DejaVuSans-76\" transform=\"scale(0.015625)\"/>\n       </defs>\n       <use xlink:href=\"#DejaVuSans-6c\"/>\n       <use x=\"27.783203\" xlink:href=\"#DejaVuSans-6f\"/>\n       <use x=\"88.964844\" xlink:href=\"#DejaVuSans-76\"/>\n       <use x=\"148.144531\" xlink:href=\"#DejaVuSans-65\"/>\n      </g>\n     </g>\n    </g>\n    <g id=\"xtick_7\">\n     <g id=\"line2d_7\">\n      <g>\n       <use style=\"stroke:#000000;stroke-width:0.8;\" x=\"235.231818\" xlink:href=\"#m67b0b7413c\" y=\"239.758125\"/>\n      </g>\n     </g>\n     <g id=\"text_7\">\n      <!-- optimism -->\n      <g transform=\"translate(220.69525 285.106514)rotate(-45)scale(0.1 -0.1)\">\n       <defs>\n        <path d=\"M 3328 2828 \nQ 3544 3216 3844 3400 \nQ 4144 3584 4550 3584 \nQ 5097 3584 5394 3201 \nQ 5691 2819 5691 2113 \nL 5691 0 \nL 5113 0 \nL 5113 2094 \nQ 5113 2597 4934 2840 \nQ 4756 3084 4391 3084 \nQ 3944 3084 3684 2787 \nQ 3425 2491 3425 1978 \nL 3425 0 \nL 2847 0 \nL 2847 2094 \nQ 2847 2600 2669 2842 \nQ 2491 3084 2119 3084 \nQ 1678 3084 1418 2786 \nQ 1159 2488 1159 1978 \nL 1159 0 \nL 581 0 \nL 581 3500 \nL 1159 3500 \nL 1159 2956 \nQ 1356 3278 1631 3431 \nQ 1906 3584 2284 3584 \nQ 2666 3584 2933 3390 \nQ 3200 3197 3328 2828 \nz\n\" id=\"DejaVuSans-6d\" transform=\"scale(0.015625)\"/>\n       </defs>\n       <use xlink:href=\"#DejaVuSans-6f\"/>\n       <use x=\"61.181641\" xlink:href=\"#DejaVuSans-70\"/>\n       <use x=\"124.658203\" xlink:href=\"#DejaVuSans-74\"/>\n       <use x=\"163.867188\" xlink:href=\"#DejaVuSans-69\"/>\n       <use x=\"191.650391\" xlink:href=\"#DejaVuSans-6d\"/>\n       <use x=\"289.0625\" xlink:href=\"#DejaVuSans-69\"/>\n       <use x=\"316.845703\" xlink:href=\"#DejaVuSans-73\"/>\n       <use x=\"368.945312\" xlink:href=\"#DejaVuSans-6d\"/>\n      </g>\n     </g>\n    </g>\n    <g id=\"xtick_8\">\n     <g id=\"line2d_8\">\n      <g>\n       <use style=\"stroke:#000000;stroke-width:0.8;\" x=\"263.413636\" xlink:href=\"#m67b0b7413c\" y=\"239.758125\"/>\n      </g>\n     </g>\n     <g id=\"text_8\">\n      <!-- pessimism -->\n      <g transform=\"translate(246.56737 289.725911)rotate(-45)scale(0.1 -0.1)\">\n       <use xlink:href=\"#DejaVuSans-70\"/>\n       <use x=\"63.476562\" xlink:href=\"#DejaVuSans-65\"/>\n       <use x=\"125\" xlink:href=\"#DejaVuSans-73\"/>\n       <use x=\"177.099609\" xlink:href=\"#DejaVuSans-73\"/>\n       <use x=\"229.199219\" xlink:href=\"#DejaVuSans-69\"/>\n       <use x=\"256.982422\" xlink:href=\"#DejaVuSans-6d\"/>\n       <use x=\"354.394531\" xlink:href=\"#DejaVuSans-69\"/>\n       <use x=\"382.177734\" xlink:href=\"#DejaVuSans-73\"/>\n       <use x=\"434.277344\" xlink:href=\"#DejaVuSans-6d\"/>\n      </g>\n     </g>\n    </g>\n    <g id=\"xtick_9\">\n     <g id=\"line2d_9\">\n      <g>\n       <use style=\"stroke:#000000;stroke-width:0.8;\" x=\"291.595455\" xlink:href=\"#m67b0b7413c\" y=\"239.758125\"/>\n      </g>\n     </g>\n     <g id=\"text_9\">\n      <!-- sadness -->\n      <g transform=\"translate(279.194017 280.836252)rotate(-45)scale(0.1 -0.1)\">\n       <use xlink:href=\"#DejaVuSans-73\"/>\n       <use x=\"52.099609\" xlink:href=\"#DejaVuSans-61\"/>\n       <use x=\"113.378906\" xlink:href=\"#DejaVuSans-64\"/>\n       <use x=\"176.855469\" xlink:href=\"#DejaVuSans-6e\"/>\n       <use x=\"240.234375\" xlink:href=\"#DejaVuSans-65\"/>\n       <use x=\"301.757812\" xlink:href=\"#DejaVuSans-73\"/>\n       <use x=\"353.857422\" xlink:href=\"#DejaVuSans-73\"/>\n      </g>\n     </g>\n    </g>\n    <g id=\"xtick_10\">\n     <g id=\"line2d_10\">\n      <g>\n       <use style=\"stroke:#000000;stroke-width:0.8;\" x=\"319.777273\" xlink:href=\"#m67b0b7413c\" y=\"239.758125\"/>\n      </g>\n     </g>\n     <g id=\"text_10\">\n      <!-- surprise -->\n      <g transform=\"translate(307.495159 280.597604)rotate(-45)scale(0.1 -0.1)\">\n       <use xlink:href=\"#DejaVuSans-73\"/>\n       <use x=\"52.099609\" xlink:href=\"#DejaVuSans-75\"/>\n       <use x=\"115.478516\" xlink:href=\"#DejaVuSans-72\"/>\n       <use x=\"156.591797\" xlink:href=\"#DejaVuSans-70\"/>\n       <use x=\"220.068359\" xlink:href=\"#DejaVuSans-72\"/>\n       <use x=\"261.181641\" xlink:href=\"#DejaVuSans-69\"/>\n       <use x=\"288.964844\" xlink:href=\"#DejaVuSans-73\"/>\n       <use x=\"341.064453\" xlink:href=\"#DejaVuSans-65\"/>\n      </g>\n     </g>\n    </g>\n    <g id=\"xtick_11\">\n     <g id=\"line2d_11\">\n      <g>\n       <use style=\"stroke:#000000;stroke-width:0.8;\" x=\"347.959091\" xlink:href=\"#m67b0b7413c\" y=\"239.758125\"/>\n      </g>\n     </g>\n     <g id=\"text_11\">\n      <!-- trust -->\n      <g transform=\"translate(341.602311 268.746936)rotate(-45)scale(0.1 -0.1)\">\n       <use xlink:href=\"#DejaVuSans-74\"/>\n       <use x=\"39.208984\" xlink:href=\"#DejaVuSans-72\"/>\n       <use x=\"80.322266\" xlink:href=\"#DejaVuSans-75\"/>\n       <use x=\"143.701172\" xlink:href=\"#DejaVuSans-73\"/>\n       <use x=\"195.800781\" xlink:href=\"#DejaVuSans-74\"/>\n      </g>\n     </g>\n    </g>\n   </g>\n   <g id=\"matplotlib.axis_2\">\n    <g id=\"ytick_1\">\n     <g id=\"line2d_12\">\n      <defs>\n       <path d=\"M 0 0 \nL -3.5 0 \n\" id=\"m814b6160e0\" style=\"stroke:#000000;stroke-width:0.8;\"/>\n      </defs>\n      <g>\n       <use style=\"stroke:#000000;stroke-width:0.8;\" x=\"39.65\" xlink:href=\"#m814b6160e0\" y=\"239.758125\"/>\n      </g>\n     </g>\n     <g id=\"text_12\">\n      <!-- 0 -->\n      <g transform=\"translate(26.2875 243.557344)scale(0.1 -0.1)\">\n       <defs>\n        <path d=\"M 2034 4250 \nQ 1547 4250 1301 3770 \nQ 1056 3291 1056 2328 \nQ 1056 1369 1301 889 \nQ 1547 409 2034 409 \nQ 2525 409 2770 889 \nQ 3016 1369 3016 2328 \nQ 3016 3291 2770 3770 \nQ 2525 4250 2034 4250 \nz\nM 2034 4750 \nQ 2819 4750 3233 4129 \nQ 3647 3509 3647 2328 \nQ 3647 1150 3233 529 \nQ 2819 -91 2034 -91 \nQ 1250 -91 836 529 \nQ 422 1150 422 2328 \nQ 422 3509 836 4129 \nQ 1250 4750 2034 4750 \nz\n\" id=\"DejaVuSans-30\" transform=\"scale(0.015625)\"/>\n       </defs>\n       <use xlink:href=\"#DejaVuSans-30\"/>\n      </g>\n     </g>\n    </g>\n    <g id=\"ytick_2\">\n     <g id=\"line2d_13\">\n      <g>\n       <use style=\"stroke:#000000;stroke-width:0.8;\" x=\"39.65\" xlink:href=\"#m814b6160e0\" y=\"191.810518\"/>\n      </g>\n     </g>\n     <g id=\"text_13\">\n      <!-- 1000 -->\n      <g transform=\"translate(7.2 195.609737)scale(0.1 -0.1)\">\n       <defs>\n        <path d=\"M 794 531 \nL 1825 531 \nL 1825 4091 \nL 703 3866 \nL 703 4441 \nL 1819 4666 \nL 2450 4666 \nL 2450 531 \nL 3481 531 \nL 3481 0 \nL 794 0 \nL 794 531 \nz\n\" id=\"DejaVuSans-31\" transform=\"scale(0.015625)\"/>\n       </defs>\n       <use xlink:href=\"#DejaVuSans-31\"/>\n       <use x=\"63.623047\" xlink:href=\"#DejaVuSans-30\"/>\n       <use x=\"127.246094\" xlink:href=\"#DejaVuSans-30\"/>\n       <use x=\"190.869141\" xlink:href=\"#DejaVuSans-30\"/>\n      </g>\n     </g>\n    </g>\n    <g id=\"ytick_3\">\n     <g id=\"line2d_14\">\n      <g>\n       <use style=\"stroke:#000000;stroke-width:0.8;\" x=\"39.65\" xlink:href=\"#m814b6160e0\" y=\"143.862911\"/>\n      </g>\n     </g>\n     <g id=\"text_14\">\n      <!-- 2000 -->\n      <g transform=\"translate(7.2 147.66213)scale(0.1 -0.1)\">\n       <defs>\n        <path d=\"M 1228 531 \nL 3431 531 \nL 3431 0 \nL 469 0 \nL 469 531 \nQ 828 903 1448 1529 \nQ 2069 2156 2228 2338 \nQ 2531 2678 2651 2914 \nQ 2772 3150 2772 3378 \nQ 2772 3750 2511 3984 \nQ 2250 4219 1831 4219 \nQ 1534 4219 1204 4116 \nQ 875 4013 500 3803 \nL 500 4441 \nQ 881 4594 1212 4672 \nQ 1544 4750 1819 4750 \nQ 2544 4750 2975 4387 \nQ 3406 4025 3406 3419 \nQ 3406 3131 3298 2873 \nQ 3191 2616 2906 2266 \nQ 2828 2175 2409 1742 \nQ 1991 1309 1228 531 \nz\n\" id=\"DejaVuSans-32\" transform=\"scale(0.015625)\"/>\n       </defs>\n       <use xlink:href=\"#DejaVuSans-32\"/>\n       <use x=\"63.623047\" xlink:href=\"#DejaVuSans-30\"/>\n       <use x=\"127.246094\" xlink:href=\"#DejaVuSans-30\"/>\n       <use x=\"190.869141\" xlink:href=\"#DejaVuSans-30\"/>\n      </g>\n     </g>\n    </g>\n    <g id=\"ytick_4\">\n     <g id=\"line2d_15\">\n      <g>\n       <use style=\"stroke:#000000;stroke-width:0.8;\" x=\"39.65\" xlink:href=\"#m814b6160e0\" y=\"95.915304\"/>\n      </g>\n     </g>\n     <g id=\"text_15\">\n      <!-- 3000 -->\n      <g transform=\"translate(7.2 99.714523)scale(0.1 -0.1)\">\n       <defs>\n        <path d=\"M 2597 2516 \nQ 3050 2419 3304 2112 \nQ 3559 1806 3559 1356 \nQ 3559 666 3084 287 \nQ 2609 -91 1734 -91 \nQ 1441 -91 1130 -33 \nQ 819 25 488 141 \nL 488 750 \nQ 750 597 1062 519 \nQ 1375 441 1716 441 \nQ 2309 441 2620 675 \nQ 2931 909 2931 1356 \nQ 2931 1769 2642 2001 \nQ 2353 2234 1838 2234 \nL 1294 2234 \nL 1294 2753 \nL 1863 2753 \nQ 2328 2753 2575 2939 \nQ 2822 3125 2822 3475 \nQ 2822 3834 2567 4026 \nQ 2313 4219 1838 4219 \nQ 1578 4219 1281 4162 \nQ 984 4106 628 3988 \nL 628 4550 \nQ 988 4650 1302 4700 \nQ 1616 4750 1894 4750 \nQ 2613 4750 3031 4423 \nQ 3450 4097 3450 3541 \nQ 3450 3153 3228 2886 \nQ 3006 2619 2597 2516 \nz\n\" id=\"DejaVuSans-33\" transform=\"scale(0.015625)\"/>\n       </defs>\n       <use xlink:href=\"#DejaVuSans-33\"/>\n       <use x=\"63.623047\" xlink:href=\"#DejaVuSans-30\"/>\n       <use x=\"127.246094\" xlink:href=\"#DejaVuSans-30\"/>\n       <use x=\"190.869141\" xlink:href=\"#DejaVuSans-30\"/>\n      </g>\n     </g>\n    </g>\n    <g id=\"ytick_5\">\n     <g id=\"line2d_16\">\n      <g>\n       <use style=\"stroke:#000000;stroke-width:0.8;\" x=\"39.65\" xlink:href=\"#m814b6160e0\" y=\"47.967697\"/>\n      </g>\n     </g>\n     <g id=\"text_16\">\n      <!-- 4000 -->\n      <g transform=\"translate(7.2 51.766916)scale(0.1 -0.1)\">\n       <defs>\n        <path d=\"M 2419 4116 \nL 825 1625 \nL 2419 1625 \nL 2419 4116 \nz\nM 2253 4666 \nL 3047 4666 \nL 3047 1625 \nL 3713 1625 \nL 3713 1100 \nL 3047 1100 \nL 3047 0 \nL 2419 0 \nL 2419 1100 \nL 313 1100 \nL 313 1709 \nL 2253 4666 \nz\n\" id=\"DejaVuSans-34\" transform=\"scale(0.015625)\"/>\n       </defs>\n       <use xlink:href=\"#DejaVuSans-34\"/>\n       <use x=\"63.623047\" xlink:href=\"#DejaVuSans-30\"/>\n       <use x=\"127.246094\" xlink:href=\"#DejaVuSans-30\"/>\n       <use x=\"190.869141\" xlink:href=\"#DejaVuSans-30\"/>\n      </g>\n     </g>\n    </g>\n   </g>\n   <g id=\"patch_14\">\n    <path d=\"M 39.65 239.758125 \nL 39.65 22.318125 \n\" style=\"fill:none;stroke:#000000;stroke-linecap:square;stroke-linejoin:miter;stroke-width:0.8;\"/>\n   </g>\n   <g id=\"patch_15\">\n    <path d=\"M 374.45 239.758125 \nL 374.45 22.318125 \n\" style=\"fill:none;stroke:#000000;stroke-linecap:square;stroke-linejoin:miter;stroke-width:0.8;\"/>\n   </g>\n   <g id=\"patch_16\">\n    <path d=\"M 39.65 239.758125 \nL 374.45 239.758125 \n\" style=\"fill:none;stroke:#000000;stroke-linecap:square;stroke-linejoin:miter;stroke-width:0.8;\"/>\n   </g>\n   <g id=\"patch_17\">\n    <path d=\"M 39.65 22.318125 \nL 374.45 22.318125 \n\" style=\"fill:none;stroke:#000000;stroke-linecap:square;stroke-linejoin:miter;stroke-width:0.8;\"/>\n   </g>\n   <g id=\"text_17\">\n    <!-- Emotion Type Distribution -->\n    <g transform=\"translate(129.654688 16.318125)scale(0.12 -0.12)\">\n     <defs>\n      <path d=\"M 628 4666 \nL 3578 4666 \nL 3578 4134 \nL 1259 4134 \nL 1259 2753 \nL 3481 2753 \nL 3481 2222 \nL 1259 2222 \nL 1259 531 \nL 3634 531 \nL 3634 0 \nL 628 0 \nL 628 4666 \nz\n\" id=\"DejaVuSans-45\" transform=\"scale(0.015625)\"/>\n      <path id=\"DejaVuSans-20\" transform=\"scale(0.015625)\"/>\n      <path d=\"M -19 4666 \nL 3928 4666 \nL 3928 4134 \nL 2272 4134 \nL 2272 0 \nL 1638 0 \nL 1638 4134 \nL -19 4134 \nL -19 4666 \nz\n\" id=\"DejaVuSans-54\" transform=\"scale(0.015625)\"/>\n      <path d=\"M 1259 4147 \nL 1259 519 \nL 2022 519 \nQ 2988 519 3436 956 \nQ 3884 1394 3884 2338 \nQ 3884 3275 3436 3711 \nQ 2988 4147 2022 4147 \nL 1259 4147 \nz\nM 628 4666 \nL 1925 4666 \nQ 3281 4666 3915 4102 \nQ 4550 3538 4550 2338 \nQ 4550 1131 3912 565 \nQ 3275 0 1925 0 \nL 628 0 \nL 628 4666 \nz\n\" id=\"DejaVuSans-44\" transform=\"scale(0.015625)\"/>\n      <path d=\"M 3116 1747 \nQ 3116 2381 2855 2742 \nQ 2594 3103 2138 3103 \nQ 1681 3103 1420 2742 \nQ 1159 2381 1159 1747 \nQ 1159 1113 1420 752 \nQ 1681 391 2138 391 \nQ 2594 391 2855 752 \nQ 3116 1113 3116 1747 \nz\nM 1159 2969 \nQ 1341 3281 1617 3432 \nQ 1894 3584 2278 3584 \nQ 2916 3584 3314 3078 \nQ 3713 2572 3713 1747 \nQ 3713 922 3314 415 \nQ 2916 -91 2278 -91 \nQ 1894 -91 1617 61 \nQ 1341 213 1159 525 \nL 1159 0 \nL 581 0 \nL 581 4863 \nL 1159 4863 \nL 1159 2969 \nz\n\" id=\"DejaVuSans-62\" transform=\"scale(0.015625)\"/>\n     </defs>\n     <use xlink:href=\"#DejaVuSans-45\"/>\n     <use x=\"63.183594\" xlink:href=\"#DejaVuSans-6d\"/>\n     <use x=\"160.595703\" xlink:href=\"#DejaVuSans-6f\"/>\n     <use x=\"221.777344\" xlink:href=\"#DejaVuSans-74\"/>\n     <use x=\"260.986328\" xlink:href=\"#DejaVuSans-69\"/>\n     <use x=\"288.769531\" xlink:href=\"#DejaVuSans-6f\"/>\n     <use x=\"349.951172\" xlink:href=\"#DejaVuSans-6e\"/>\n     <use x=\"413.330078\" xlink:href=\"#DejaVuSans-20\"/>\n     <use x=\"445.117188\" xlink:href=\"#DejaVuSans-54\"/>\n     <use x=\"490.576172\" xlink:href=\"#DejaVuSans-79\"/>\n     <use x=\"549.755859\" xlink:href=\"#DejaVuSans-70\"/>\n     <use x=\"613.232422\" xlink:href=\"#DejaVuSans-65\"/>\n     <use x=\"674.755859\" xlink:href=\"#DejaVuSans-20\"/>\n     <use x=\"706.542969\" xlink:href=\"#DejaVuSans-44\"/>\n     <use x=\"783.544922\" xlink:href=\"#DejaVuSans-69\"/>\n     <use x=\"811.328125\" xlink:href=\"#DejaVuSans-73\"/>\n     <use x=\"863.427734\" xlink:href=\"#DejaVuSans-74\"/>\n     <use x=\"902.636719\" xlink:href=\"#DejaVuSans-72\"/>\n     <use x=\"943.75\" xlink:href=\"#DejaVuSans-69\"/>\n     <use x=\"971.533203\" xlink:href=\"#DejaVuSans-62\"/>\n     <use x=\"1035.009766\" xlink:href=\"#DejaVuSans-75\"/>\n     <use x=\"1098.388672\" xlink:href=\"#DejaVuSans-74\"/>\n     <use x=\"1137.597656\" xlink:href=\"#DejaVuSans-69\"/>\n     <use x=\"1165.380859\" xlink:href=\"#DejaVuSans-6f\"/>\n     <use x=\"1226.5625\" xlink:href=\"#DejaVuSans-6e\"/>\n    </g>\n   </g>\n  </g>\n </g>\n <defs>\n  <clipPath id=\"pf6304899d4\">\n   <rect height=\"217.44\" width=\"334.8\" x=\"39.65\" y=\"22.318125\"/>\n  </clipPath>\n </defs>\n</svg>\n",
      "image/png": "[encoded data removed]"
     },
     "metadata": {
      "needs_background": "light"
     }
    },
    {
     "output_type": "stream",
     "name": "stdout",
     "text": [
      "Emotion mapping: {'anticipation': 0, 'pessimism': 1, 'joy': 2, 'optimism': 3, 'love': 4, 'disgust': 5, 'sadness': 6, 'surprise': 7, 'fear': 8, 'anger': 9, 'trust': 10}\n"
     ]
    }
   ],
   "source": [
    "# Visualise emotion counts\n",
    "if SELECTED_DATA == \"ssec\":\n",
    "    emotions = [\"anger\", \"anticipation\", \"disgust\", \"fear\", \"joy\", \"sadness\", \"surprise\", \"trust\"]\n",
    "    ccount = [len(df[df['emotion'].map(lambda r : emotion in r)]) for emotion in emotions]\n",
    "elif SELECTED_DATA == \"semeval\":\n",
    "    emotions = [\"anger\", \"anticipation\", \"disgust\", \"fear\", \"joy\", \"love\", \"optimism\", \"pessimism\", \"sadness\", \"surprise\", \"trust\"]\n",
    "    ccount = [len(df[df['emotion'].map(lambda r : emotion in r)]) for emotion in emotions]\n",
    "else:\n",
    "    emotions, ccount = np.unique(df.emotion, return_counts=True)\n",
    "plt.figure()\n",
    "plt.title(\"Emotion Type Distribution\")\n",
    "plt.bar(emotions, ccount, align='center')\n",
    "plt.xticks(rotation=45)\n",
    "plt.show()\n",
    "\n",
    "# Get number of emotions and create a map\n",
    "n_emotions = len(emotions)\n",
    "emotion_dict = {e : i for i, e in enumerate(set(emotions))}\n",
    "print(\"Emotion mapping: {}\".format(emotion_dict))"
   ]
  },
  {
   "cell_type": "code",
   "execution_count": 5,
   "metadata": {},
   "outputs": [
    {
     "output_type": "display_data",
     "data": {
      "text/plain": "<Figure size 432x288 with 1 Axes>",
      "image/svg+xml": "<?xml version=\"1.0\" encoding=\"utf-8\" standalone=\"no\"?>\n<!DOCTYPE svg PUBLIC \"-//W3C//DTD SVG 1.1//EN\"\n  \"http://www.w3.org/Graphics/SVG/1.1/DTD/svg11.dtd\">\n<svg height=\"263.63625pt\" version=\"1.1\" viewBox=\"0 0 375.2875 263.63625\" width=\"375.2875pt\" xmlns=\"http://www.w3.org/2000/svg\" xmlns:xlink=\"http://www.w3.org/1999/xlink\">\n <metadata>\n  <rdf:RDF xmlns:cc=\"http://creativecommons.org/ns#\" xmlns:dc=\"http://purl.org/dc/elements/1.1/\" xmlns:rdf=\"http://www.w3.org/1999/02/22-rdf-syntax-ns#\">\n   <cc:Work>\n    <dc:type rdf:resource=\"http://purl.org/dc/dcmitype/StillImage\"/>\n    <dc:date>2021-04-11T16:55:23.931617</dc:date>\n    <dc:format>image/svg+xml</dc:format>\n    <dc:creator>\n     <cc:Agent>\n      <dc:title>Matplotlib v3.4.1, https://matplotlib.org/</dc:title>\n     </cc:Agent>\n    </dc:creator>\n   </cc:Work>\n  </rdf:RDF>\n </metadata>\n <defs>\n  <style type=\"text/css\">*{stroke-linecap:butt;stroke-linejoin:round;}</style>\n </defs>\n <g id=\"figure_1\">\n  <g id=\"patch_1\">\n   <path d=\"M 0 263.63625 \nL 375.2875 263.63625 \nL 375.2875 0 \nL 0 0 \nz\n\" style=\"fill:none;\"/>\n  </g>\n  <g id=\"axes_1\">\n   <g id=\"patch_2\">\n    <path d=\"M 33.2875 239.758125 \nL 368.0875 239.758125 \nL 368.0875 22.318125 \nL 33.2875 22.318125 \nz\n\" style=\"fill:#ffffff;\"/>\n   </g>\n   <g id=\"patch_3\">\n    <path clip-path=\"url(#p3edcf287db)\" d=\"M 48.505682 239.758125 \nL 56.411231 239.758125 \nL 56.411231 233.726502 \nL 48.505682 233.726502 \nz\n\" style=\"fill:#1f77b4;\"/>\n   </g>\n   <g id=\"patch_4\">\n    <path clip-path=\"url(#p3edcf287db)\" d=\"M 58.387618 239.758125 \nL 66.293167 239.758125 \nL 66.293167 212.280732 \nL 58.387618 212.280732 \nz\n\" style=\"fill:#1f77b4;\"/>\n   </g>\n   <g id=\"patch_5\">\n    <path clip-path=\"url(#p3edcf287db)\" d=\"M 68.269554 239.758125 \nL 76.175103 239.758125 \nL 76.175103 184.13316 \nL 68.269554 184.13316 \nz\n\" style=\"fill:#1f77b4;\"/>\n   </g>\n   <g id=\"patch_6\">\n    <path clip-path=\"url(#p3edcf287db)\" d=\"M 78.151491 239.758125 \nL 86.05704 239.758125 \nL 86.05704 158.331218 \nL 78.151491 158.331218 \nz\n\" style=\"fill:#1f77b4;\"/>\n   </g>\n   <g id=\"patch_7\">\n    <path clip-path=\"url(#p3edcf287db)\" d=\"M 88.033427 239.758125 \nL 95.938976 239.758125 \nL 95.938976 137.220538 \nL 88.033427 137.220538 \nz\n\" style=\"fill:#1f77b4;\"/>\n   </g>\n   <g id=\"patch_8\">\n    <path clip-path=\"url(#p3edcf287db)\" d=\"M 97.915363 239.758125 \nL 105.820912 239.758125 \nL 105.820912 111.083506 \nL 97.915363 111.083506 \nz\n\" style=\"fill:#1f77b4;\"/>\n   </g>\n   <g id=\"patch_9\">\n    <path clip-path=\"url(#p3edcf287db)\" d=\"M 107.797299 239.758125 \nL 115.702848 239.758125 \nL 115.702848 106.392244 \nL 107.797299 106.392244 \nz\n\" style=\"fill:#1f77b4;\"/>\n   </g>\n   <g id=\"patch_10\">\n    <path clip-path=\"url(#p3edcf287db)\" d=\"M 117.679236 239.758125 \nL 125.584785 239.758125 \nL 125.584785 81.260483 \nL 117.679236 81.260483 \nz\n\" style=\"fill:#1f77b4;\"/>\n   </g>\n   <g id=\"patch_11\">\n    <path clip-path=\"url(#p3edcf287db)\" d=\"M 127.561172 239.758125 \nL 135.466721 239.758125 \nL 135.466721 66.851606 \nL 127.561172 66.851606 \nz\n\" style=\"fill:#1f77b4;\"/>\n   </g>\n   <g id=\"patch_12\">\n    <path clip-path=\"url(#p3edcf287db)\" d=\"M 137.443108 239.758125 \nL 145.348657 239.758125 \nL 145.348657 53.448 \nL 137.443108 53.448 \nz\n\" style=\"fill:#1f77b4;\"/>\n   </g>\n   <g id=\"patch_13\">\n    <path clip-path=\"url(#p3edcf287db)\" d=\"M 147.325044 239.758125 \nL 155.230593 239.758125 \nL 155.230593 78.579762 \nL 147.325044 78.579762 \nz\n\" style=\"fill:#1f77b4;\"/>\n   </g>\n   <g id=\"patch_14\">\n    <path clip-path=\"url(#p3edcf287db)\" d=\"M 157.206981 239.758125 \nL 165.11253 239.758125 \nL 165.11253 82.265753 \nL 157.206981 82.265753 \nz\n\" style=\"fill:#1f77b4;\"/>\n   </g>\n   <g id=\"patch_15\">\n    <path clip-path=\"url(#p3edcf287db)\" d=\"M 167.088917 239.758125 \nL 174.994466 239.758125 \nL 174.994466 78.914852 \nL 167.088917 78.914852 \nz\n\" style=\"fill:#1f77b4;\"/>\n   </g>\n   <g id=\"patch_16\">\n    <path clip-path=\"url(#p3edcf287db)\" d=\"M 176.970853 239.758125 \nL 184.876402 239.758125 \nL 184.876402 63.500705 \nL 176.970853 63.500705 \nz\n\" style=\"fill:#1f77b4;\"/>\n   </g>\n   <g id=\"patch_17\">\n    <path clip-path=\"url(#p3edcf287db)\" d=\"M 186.852789 239.758125 \nL 194.758338 239.758125 \nL 194.758338 69.197237 \nL 186.852789 69.197237 \nz\n\" style=\"fill:#1f77b4;\"/>\n   </g>\n   <g id=\"patch_18\">\n    <path clip-path=\"url(#p3edcf287db)\" d=\"M 196.734726 239.758125 \nL 204.640274 239.758125 \nL 204.640274 61.155074 \nL 196.734726 61.155074 \nz\n\" style=\"fill:#1f77b4;\"/>\n   </g>\n   <g id=\"patch_19\">\n    <path clip-path=\"url(#p3edcf287db)\" d=\"M 206.616662 239.758125 \nL 214.522211 239.758125 \nL 214.522211 52.10764 \nL 206.616662 52.10764 \nz\n\" style=\"fill:#1f77b4;\"/>\n   </g>\n   <g id=\"patch_20\">\n    <path clip-path=\"url(#p3edcf287db)\" d=\"M 216.498598 239.758125 \nL 224.404147 239.758125 \nL 224.404147 43.060205 \nL 216.498598 43.060205 \nz\n\" style=\"fill:#1f77b4;\"/>\n   </g>\n   <g id=\"patch_21\">\n    <path clip-path=\"url(#p3edcf287db)\" d=\"M 226.380534 239.758125 \nL 234.286083 239.758125 \nL 234.286083 36.693493 \nL 226.380534 36.693493 \nz\n\" style=\"fill:#1f77b4;\"/>\n   </g>\n   <g id=\"patch_22\">\n    <path clip-path=\"url(#p3edcf287db)\" d=\"M 236.26247 239.758125 \nL 244.168019 239.758125 \nL 244.168019 36.693493 \nL 236.26247 36.693493 \nz\n\" style=\"fill:#1f77b4;\"/>\n   </g>\n   <g id=\"patch_23\">\n    <path clip-path=\"url(#p3edcf287db)\" d=\"M 246.144407 239.758125 \nL 254.049956 239.758125 \nL 254.049956 32.672411 \nL 246.144407 32.672411 \nz\n\" style=\"fill:#1f77b4;\"/>\n   </g>\n   <g id=\"patch_24\">\n    <path clip-path=\"url(#p3edcf287db)\" d=\"M 256.026343 239.758125 \nL 263.931892 239.758125 \nL 263.931892 60.819984 \nL 256.026343 60.819984 \nz\n\" style=\"fill:#1f77b4;\"/>\n   </g>\n   <g id=\"patch_25\">\n    <path clip-path=\"url(#p3edcf287db)\" d=\"M 265.908279 239.758125 \nL 273.813828 239.758125 \nL 273.813828 84.276294 \nL 265.908279 84.276294 \nz\n\" style=\"fill:#1f77b4;\"/>\n   </g>\n   <g id=\"patch_26\">\n    <path clip-path=\"url(#p3edcf287db)\" d=\"M 275.790215 239.758125 \nL 283.695764 239.758125 \nL 283.695764 115.439678 \nL 275.790215 115.439678 \nz\n\" style=\"fill:#1f77b4;\"/>\n   </g>\n   <g id=\"patch_27\">\n    <path clip-path=\"url(#p3edcf287db)\" d=\"M 285.672152 239.758125 \nL 293.577701 239.758125 \nL 293.577701 161.347029 \nL 285.672152 161.347029 \nz\n\" style=\"fill:#1f77b4;\"/>\n   </g>\n   <g id=\"patch_28\">\n    <path clip-path=\"url(#p3edcf287db)\" d=\"M 295.554088 239.758125 \nL 303.459637 239.758125 \nL 303.459637 189.829692 \nL 295.554088 189.829692 \nz\n\" style=\"fill:#1f77b4;\"/>\n   </g>\n   <g id=\"patch_29\">\n    <path clip-path=\"url(#p3edcf287db)\" d=\"M 305.436024 239.758125 \nL 313.341573 239.758125 \nL 313.341573 215.631634 \nL 305.436024 215.631634 \nz\n\" style=\"fill:#1f77b4;\"/>\n   </g>\n   <g id=\"patch_30\">\n    <path clip-path=\"url(#p3edcf287db)\" d=\"M 315.31796 239.758125 \nL 323.223509 239.758125 \nL 323.223509 231.045781 \nL 315.31796 231.045781 \nz\n\" style=\"fill:#1f77b4;\"/>\n   </g>\n   <g id=\"patch_31\">\n    <path clip-path=\"url(#p3edcf287db)\" d=\"M 325.199897 239.758125 \nL 333.105446 239.758125 \nL 333.105446 235.737043 \nL 325.199897 235.737043 \nz\n\" style=\"fill:#1f77b4;\"/>\n   </g>\n   <g id=\"patch_32\">\n    <path clip-path=\"url(#p3edcf287db)\" d=\"M 335.081833 239.758125 \nL 342.987382 239.758125 \nL 342.987382 239.423035 \nL 335.081833 239.423035 \nz\n\" style=\"fill:#1f77b4;\"/>\n   </g>\n   <g id=\"patch_33\">\n    <path clip-path=\"url(#p3edcf287db)\" d=\"M 344.963769 239.758125 \nL 352.869318 239.758125 \nL 352.869318 239.087945 \nL 344.963769 239.087945 \nz\n\" style=\"fill:#1f77b4;\"/>\n   </g>\n   <g id=\"matplotlib.axis_1\">\n    <g id=\"xtick_1\">\n     <g id=\"line2d_1\">\n      <defs>\n       <path d=\"M 0 0 \nL 0 3.5 \n\" id=\"mbab6b62233\" style=\"stroke:#000000;stroke-width:0.8;\"/>\n      </defs>\n      <g>\n       <use style=\"stroke:#000000;stroke-width:0.8;\" x=\"42.57652\" xlink:href=\"#mbab6b62233\" y=\"239.758125\"/>\n      </g>\n     </g>\n     <g id=\"text_1\">\n      <!-- 0 -->\n      <g transform=\"translate(39.39527 254.356563)scale(0.1 -0.1)\">\n       <defs>\n        <path d=\"M 2034 4250 \nQ 1547 4250 1301 3770 \nQ 1056 3291 1056 2328 \nQ 1056 1369 1301 889 \nQ 1547 409 2034 409 \nQ 2525 409 2770 889 \nQ 3016 1369 3016 2328 \nQ 3016 3291 2770 3770 \nQ 2525 4250 2034 4250 \nz\nM 2034 4750 \nQ 2819 4750 3233 4129 \nQ 3647 3509 3647 2328 \nQ 3647 1150 3233 529 \nQ 2819 -91 2034 -91 \nQ 1250 -91 836 529 \nQ 422 1150 422 2328 \nQ 422 3509 836 4129 \nQ 1250 4750 2034 4750 \nz\n\" id=\"DejaVuSans-30\" transform=\"scale(0.015625)\"/>\n       </defs>\n       <use xlink:href=\"#DejaVuSans-30\"/>\n      </g>\n     </g>\n    </g>\n    <g id=\"xtick_2\">\n     <g id=\"line2d_2\">\n      <g>\n       <use style=\"stroke:#000000;stroke-width:0.8;\" x=\"91.986201\" xlink:href=\"#mbab6b62233\" y=\"239.758125\"/>\n      </g>\n     </g>\n     <g id=\"text_2\">\n      <!-- 5 -->\n      <g transform=\"translate(88.804951 254.356563)scale(0.1 -0.1)\">\n       <defs>\n        <path d=\"M 691 4666 \nL 3169 4666 \nL 3169 4134 \nL 1269 4134 \nL 1269 2991 \nQ 1406 3038 1543 3061 \nQ 1681 3084 1819 3084 \nQ 2600 3084 3056 2656 \nQ 3513 2228 3513 1497 \nQ 3513 744 3044 326 \nQ 2575 -91 1722 -91 \nQ 1428 -91 1123 -41 \nQ 819 9 494 109 \nL 494 744 \nQ 775 591 1075 516 \nQ 1375 441 1709 441 \nQ 2250 441 2565 725 \nQ 2881 1009 2881 1497 \nQ 2881 1984 2565 2268 \nQ 2250 2553 1709 2553 \nQ 1456 2553 1204 2497 \nQ 953 2441 691 2322 \nL 691 4666 \nz\n\" id=\"DejaVuSans-35\" transform=\"scale(0.015625)\"/>\n       </defs>\n       <use xlink:href=\"#DejaVuSans-35\"/>\n      </g>\n     </g>\n    </g>\n    <g id=\"xtick_3\">\n     <g id=\"line2d_3\">\n      <g>\n       <use style=\"stroke:#000000;stroke-width:0.8;\" x=\"141.395883\" xlink:href=\"#mbab6b62233\" y=\"239.758125\"/>\n      </g>\n     </g>\n     <g id=\"text_3\">\n      <!-- 10 -->\n      <g transform=\"translate(135.033383 254.356563)scale(0.1 -0.1)\">\n       <defs>\n        <path d=\"M 794 531 \nL 1825 531 \nL 1825 4091 \nL 703 3866 \nL 703 4441 \nL 1819 4666 \nL 2450 4666 \nL 2450 531 \nL 3481 531 \nL 3481 0 \nL 794 0 \nL 794 531 \nz\n\" id=\"DejaVuSans-31\" transform=\"scale(0.015625)\"/>\n       </defs>\n       <use xlink:href=\"#DejaVuSans-31\"/>\n       <use x=\"63.623047\" xlink:href=\"#DejaVuSans-30\"/>\n      </g>\n     </g>\n    </g>\n    <g id=\"xtick_4\">\n     <g id=\"line2d_4\">\n      <g>\n       <use style=\"stroke:#000000;stroke-width:0.8;\" x=\"190.805564\" xlink:href=\"#mbab6b62233\" y=\"239.758125\"/>\n      </g>\n     </g>\n     <g id=\"text_4\">\n      <!-- 15 -->\n      <g transform=\"translate(184.443064 254.356563)scale(0.1 -0.1)\">\n       <use xlink:href=\"#DejaVuSans-31\"/>\n       <use x=\"63.623047\" xlink:href=\"#DejaVuSans-35\"/>\n      </g>\n     </g>\n    </g>\n    <g id=\"xtick_5\">\n     <g id=\"line2d_5\">\n      <g>\n       <use style=\"stroke:#000000;stroke-width:0.8;\" x=\"240.215245\" xlink:href=\"#mbab6b62233\" y=\"239.758125\"/>\n      </g>\n     </g>\n     <g id=\"text_5\">\n      <!-- 20 -->\n      <g transform=\"translate(233.852745 254.356563)scale(0.1 -0.1)\">\n       <defs>\n        <path d=\"M 1228 531 \nL 3431 531 \nL 3431 0 \nL 469 0 \nL 469 531 \nQ 828 903 1448 1529 \nQ 2069 2156 2228 2338 \nQ 2531 2678 2651 2914 \nQ 2772 3150 2772 3378 \nQ 2772 3750 2511 3984 \nQ 2250 4219 1831 4219 \nQ 1534 4219 1204 4116 \nQ 875 4013 500 3803 \nL 500 4441 \nQ 881 4594 1212 4672 \nQ 1544 4750 1819 4750 \nQ 2544 4750 2975 4387 \nQ 3406 4025 3406 3419 \nQ 3406 3131 3298 2873 \nQ 3191 2616 2906 2266 \nQ 2828 2175 2409 1742 \nQ 1991 1309 1228 531 \nz\n\" id=\"DejaVuSans-32\" transform=\"scale(0.015625)\"/>\n       </defs>\n       <use xlink:href=\"#DejaVuSans-32\"/>\n       <use x=\"63.623047\" xlink:href=\"#DejaVuSans-30\"/>\n      </g>\n     </g>\n    </g>\n    <g id=\"xtick_6\">\n     <g id=\"line2d_6\">\n      <g>\n       <use style=\"stroke:#000000;stroke-width:0.8;\" x=\"289.624926\" xlink:href=\"#mbab6b62233\" y=\"239.758125\"/>\n      </g>\n     </g>\n     <g id=\"text_6\">\n      <!-- 25 -->\n      <g transform=\"translate(283.262426 254.356563)scale(0.1 -0.1)\">\n       <use xlink:href=\"#DejaVuSans-32\"/>\n       <use x=\"63.623047\" xlink:href=\"#DejaVuSans-35\"/>\n      </g>\n     </g>\n    </g>\n    <g id=\"xtick_7\">\n     <g id=\"line2d_7\">\n      <g>\n       <use style=\"stroke:#000000;stroke-width:0.8;\" x=\"339.034607\" xlink:href=\"#mbab6b62233\" y=\"239.758125\"/>\n      </g>\n     </g>\n     <g id=\"text_7\">\n      <!-- 30 -->\n      <g transform=\"translate(332.672107 254.356563)scale(0.1 -0.1)\">\n       <defs>\n        <path d=\"M 2597 2516 \nQ 3050 2419 3304 2112 \nQ 3559 1806 3559 1356 \nQ 3559 666 3084 287 \nQ 2609 -91 1734 -91 \nQ 1441 -91 1130 -33 \nQ 819 25 488 141 \nL 488 750 \nQ 750 597 1062 519 \nQ 1375 441 1716 441 \nQ 2309 441 2620 675 \nQ 2931 909 2931 1356 \nQ 2931 1769 2642 2001 \nQ 2353 2234 1838 2234 \nL 1294 2234 \nL 1294 2753 \nL 1863 2753 \nQ 2328 2753 2575 2939 \nQ 2822 3125 2822 3475 \nQ 2822 3834 2567 4026 \nQ 2313 4219 1838 4219 \nQ 1578 4219 1281 4162 \nQ 984 4106 628 3988 \nL 628 4550 \nQ 988 4650 1302 4700 \nQ 1616 4750 1894 4750 \nQ 2613 4750 3031 4423 \nQ 3450 4097 3450 3541 \nQ 3450 3153 3228 2886 \nQ 3006 2619 2597 2516 \nz\n\" id=\"DejaVuSans-33\" transform=\"scale(0.015625)\"/>\n       </defs>\n       <use xlink:href=\"#DejaVuSans-33\"/>\n       <use x=\"63.623047\" xlink:href=\"#DejaVuSans-30\"/>\n      </g>\n     </g>\n    </g>\n   </g>\n   <g id=\"matplotlib.axis_2\">\n    <g id=\"ytick_1\">\n     <g id=\"line2d_8\">\n      <defs>\n       <path d=\"M 0 0 \nL -3.5 0 \n\" id=\"mad9e3674de\" style=\"stroke:#000000;stroke-width:0.8;\"/>\n      </defs>\n      <g>\n       <use style=\"stroke:#000000;stroke-width:0.8;\" x=\"33.2875\" xlink:href=\"#mad9e3674de\" y=\"239.758125\"/>\n      </g>\n     </g>\n     <g id=\"text_8\">\n      <!-- 0 -->\n      <g transform=\"translate(19.925 243.557344)scale(0.1 -0.1)\">\n       <use xlink:href=\"#DejaVuSans-30\"/>\n      </g>\n     </g>\n    </g>\n    <g id=\"ytick_2\">\n     <g id=\"line2d_9\">\n      <g>\n       <use style=\"stroke:#000000;stroke-width:0.8;\" x=\"33.2875\" xlink:href=\"#mad9e3674de\" y=\"206.24911\"/>\n      </g>\n     </g>\n     <g id=\"text_9\">\n      <!-- 100 -->\n      <g transform=\"translate(7.2 210.048328)scale(0.1 -0.1)\">\n       <use xlink:href=\"#DejaVuSans-31\"/>\n       <use x=\"63.623047\" xlink:href=\"#DejaVuSans-30\"/>\n       <use x=\"127.246094\" xlink:href=\"#DejaVuSans-30\"/>\n      </g>\n     </g>\n    </g>\n    <g id=\"ytick_3\">\n     <g id=\"line2d_10\">\n      <g>\n       <use style=\"stroke:#000000;stroke-width:0.8;\" x=\"33.2875\" xlink:href=\"#mad9e3674de\" y=\"172.740094\"/>\n      </g>\n     </g>\n     <g id=\"text_10\">\n      <!-- 200 -->\n      <g transform=\"translate(7.2 176.539313)scale(0.1 -0.1)\">\n       <use xlink:href=\"#DejaVuSans-32\"/>\n       <use x=\"63.623047\" xlink:href=\"#DejaVuSans-30\"/>\n       <use x=\"127.246094\" xlink:href=\"#DejaVuSans-30\"/>\n      </g>\n     </g>\n    </g>\n    <g id=\"ytick_4\">\n     <g id=\"line2d_11\">\n      <g>\n       <use style=\"stroke:#000000;stroke-width:0.8;\" x=\"33.2875\" xlink:href=\"#mad9e3674de\" y=\"139.231079\"/>\n      </g>\n     </g>\n     <g id=\"text_11\">\n      <!-- 300 -->\n      <g transform=\"translate(7.2 143.030298)scale(0.1 -0.1)\">\n       <use xlink:href=\"#DejaVuSans-33\"/>\n       <use x=\"63.623047\" xlink:href=\"#DejaVuSans-30\"/>\n       <use x=\"127.246094\" xlink:href=\"#DejaVuSans-30\"/>\n      </g>\n     </g>\n    </g>\n    <g id=\"ytick_5\">\n     <g id=\"line2d_12\">\n      <g>\n       <use style=\"stroke:#000000;stroke-width:0.8;\" x=\"33.2875\" xlink:href=\"#mad9e3674de\" y=\"105.722064\"/>\n      </g>\n     </g>\n     <g id=\"text_12\">\n      <!-- 400 -->\n      <g transform=\"translate(7.2 109.521283)scale(0.1 -0.1)\">\n       <defs>\n        <path d=\"M 2419 4116 \nL 825 1625 \nL 2419 1625 \nL 2419 4116 \nz\nM 2253 4666 \nL 3047 4666 \nL 3047 1625 \nL 3713 1625 \nL 3713 1100 \nL 3047 1100 \nL 3047 0 \nL 2419 0 \nL 2419 1100 \nL 313 1100 \nL 313 1709 \nL 2253 4666 \nz\n\" id=\"DejaVuSans-34\" transform=\"scale(0.015625)\"/>\n       </defs>\n       <use xlink:href=\"#DejaVuSans-34\"/>\n       <use x=\"63.623047\" xlink:href=\"#DejaVuSans-30\"/>\n       <use x=\"127.246094\" xlink:href=\"#DejaVuSans-30\"/>\n      </g>\n     </g>\n    </g>\n    <g id=\"ytick_6\">\n     <g id=\"line2d_13\">\n      <g>\n       <use style=\"stroke:#000000;stroke-width:0.8;\" x=\"33.2875\" xlink:href=\"#mad9e3674de\" y=\"72.213049\"/>\n      </g>\n     </g>\n     <g id=\"text_13\">\n      <!-- 500 -->\n      <g transform=\"translate(7.2 76.012267)scale(0.1 -0.1)\">\n       <use xlink:href=\"#DejaVuSans-35\"/>\n       <use x=\"63.623047\" xlink:href=\"#DejaVuSans-30\"/>\n       <use x=\"127.246094\" xlink:href=\"#DejaVuSans-30\"/>\n      </g>\n     </g>\n    </g>\n    <g id=\"ytick_7\">\n     <g id=\"line2d_14\">\n      <g>\n       <use style=\"stroke:#000000;stroke-width:0.8;\" x=\"33.2875\" xlink:href=\"#mad9e3674de\" y=\"38.704033\"/>\n      </g>\n     </g>\n     <g id=\"text_14\">\n      <!-- 600 -->\n      <g transform=\"translate(7.2 42.503252)scale(0.1 -0.1)\">\n       <defs>\n        <path d=\"M 2113 2584 \nQ 1688 2584 1439 2293 \nQ 1191 2003 1191 1497 \nQ 1191 994 1439 701 \nQ 1688 409 2113 409 \nQ 2538 409 2786 701 \nQ 3034 994 3034 1497 \nQ 3034 2003 2786 2293 \nQ 2538 2584 2113 2584 \nz\nM 3366 4563 \nL 3366 3988 \nQ 3128 4100 2886 4159 \nQ 2644 4219 2406 4219 \nQ 1781 4219 1451 3797 \nQ 1122 3375 1075 2522 \nQ 1259 2794 1537 2939 \nQ 1816 3084 2150 3084 \nQ 2853 3084 3261 2657 \nQ 3669 2231 3669 1497 \nQ 3669 778 3244 343 \nQ 2819 -91 2113 -91 \nQ 1303 -91 875 529 \nQ 447 1150 447 2328 \nQ 447 3434 972 4092 \nQ 1497 4750 2381 4750 \nQ 2619 4750 2861 4703 \nQ 3103 4656 3366 4563 \nz\n\" id=\"DejaVuSans-36\" transform=\"scale(0.015625)\"/>\n       </defs>\n       <use xlink:href=\"#DejaVuSans-36\"/>\n       <use x=\"63.623047\" xlink:href=\"#DejaVuSans-30\"/>\n       <use x=\"127.246094\" xlink:href=\"#DejaVuSans-30\"/>\n      </g>\n     </g>\n    </g>\n   </g>\n   <g id=\"patch_34\">\n    <path d=\"M 33.2875 239.758125 \nL 33.2875 22.318125 \n\" style=\"fill:none;stroke:#000000;stroke-linecap:square;stroke-linejoin:miter;stroke-width:0.8;\"/>\n   </g>\n   <g id=\"patch_35\">\n    <path d=\"M 368.0875 239.758125 \nL 368.0875 22.318125 \n\" style=\"fill:none;stroke:#000000;stroke-linecap:square;stroke-linejoin:miter;stroke-width:0.8;\"/>\n   </g>\n   <g id=\"patch_36\">\n    <path d=\"M 33.2875 239.758125 \nL 368.0875 239.758125 \n\" style=\"fill:none;stroke:#000000;stroke-linecap:square;stroke-linejoin:miter;stroke-width:0.8;\"/>\n   </g>\n   <g id=\"patch_37\">\n    <path d=\"M 33.2875 22.318125 \nL 368.0875 22.318125 \n\" style=\"fill:none;stroke:#000000;stroke-linecap:square;stroke-linejoin:miter;stroke-width:0.8;\"/>\n   </g>\n   <g id=\"text_15\">\n    <!-- Tweet Length Distribution -->\n    <g transform=\"translate(123.8575 16.318125)scale(0.12 -0.12)\">\n     <defs>\n      <path d=\"M -19 4666 \nL 3928 4666 \nL 3928 4134 \nL 2272 4134 \nL 2272 0 \nL 1638 0 \nL 1638 4134 \nL -19 4134 \nL -19 4666 \nz\n\" id=\"DejaVuSans-54\" transform=\"scale(0.015625)\"/>\n      <path d=\"M 269 3500 \nL 844 3500 \nL 1563 769 \nL 2278 3500 \nL 2956 3500 \nL 3675 769 \nL 4391 3500 \nL 4966 3500 \nL 4050 0 \nL 3372 0 \nL 2619 2869 \nL 1863 0 \nL 1184 0 \nL 269 3500 \nz\n\" id=\"DejaVuSans-77\" transform=\"scale(0.015625)\"/>\n      <path d=\"M 3597 1894 \nL 3597 1613 \nL 953 1613 \nQ 991 1019 1311 708 \nQ 1631 397 2203 397 \nQ 2534 397 2845 478 \nQ 3156 559 3463 722 \nL 3463 178 \nQ 3153 47 2828 -22 \nQ 2503 -91 2169 -91 \nQ 1331 -91 842 396 \nQ 353 884 353 1716 \nQ 353 2575 817 3079 \nQ 1281 3584 2069 3584 \nQ 2775 3584 3186 3129 \nQ 3597 2675 3597 1894 \nz\nM 3022 2063 \nQ 3016 2534 2758 2815 \nQ 2500 3097 2075 3097 \nQ 1594 3097 1305 2825 \nQ 1016 2553 972 2059 \nL 3022 2063 \nz\n\" id=\"DejaVuSans-65\" transform=\"scale(0.015625)\"/>\n      <path d=\"M 1172 4494 \nL 1172 3500 \nL 2356 3500 \nL 2356 3053 \nL 1172 3053 \nL 1172 1153 \nQ 1172 725 1289 603 \nQ 1406 481 1766 481 \nL 2356 481 \nL 2356 0 \nL 1766 0 \nQ 1100 0 847 248 \nQ 594 497 594 1153 \nL 594 3053 \nL 172 3053 \nL 172 3500 \nL 594 3500 \nL 594 4494 \nL 1172 4494 \nz\n\" id=\"DejaVuSans-74\" transform=\"scale(0.015625)\"/>\n      <path id=\"DejaVuSans-20\" transform=\"scale(0.015625)\"/>\n      <path d=\"M 628 4666 \nL 1259 4666 \nL 1259 531 \nL 3531 531 \nL 3531 0 \nL 628 0 \nL 628 4666 \nz\n\" id=\"DejaVuSans-4c\" transform=\"scale(0.015625)\"/>\n      <path d=\"M 3513 2113 \nL 3513 0 \nL 2938 0 \nL 2938 2094 \nQ 2938 2591 2744 2837 \nQ 2550 3084 2163 3084 \nQ 1697 3084 1428 2787 \nQ 1159 2491 1159 1978 \nL 1159 0 \nL 581 0 \nL 581 3500 \nL 1159 3500 \nL 1159 2956 \nQ 1366 3272 1645 3428 \nQ 1925 3584 2291 3584 \nQ 2894 3584 3203 3211 \nQ 3513 2838 3513 2113 \nz\n\" id=\"DejaVuSans-6e\" transform=\"scale(0.015625)\"/>\n      <path d=\"M 2906 1791 \nQ 2906 2416 2648 2759 \nQ 2391 3103 1925 3103 \nQ 1463 3103 1205 2759 \nQ 947 2416 947 1791 \nQ 947 1169 1205 825 \nQ 1463 481 1925 481 \nQ 2391 481 2648 825 \nQ 2906 1169 2906 1791 \nz\nM 3481 434 \nQ 3481 -459 3084 -895 \nQ 2688 -1331 1869 -1331 \nQ 1566 -1331 1297 -1286 \nQ 1028 -1241 775 -1147 \nL 775 -588 \nQ 1028 -725 1275 -790 \nQ 1522 -856 1778 -856 \nQ 2344 -856 2625 -561 \nQ 2906 -266 2906 331 \nL 2906 616 \nQ 2728 306 2450 153 \nQ 2172 0 1784 0 \nQ 1141 0 747 490 \nQ 353 981 353 1791 \nQ 353 2603 747 3093 \nQ 1141 3584 1784 3584 \nQ 2172 3584 2450 3431 \nQ 2728 3278 2906 2969 \nL 2906 3500 \nL 3481 3500 \nL 3481 434 \nz\n\" id=\"DejaVuSans-67\" transform=\"scale(0.015625)\"/>\n      <path d=\"M 3513 2113 \nL 3513 0 \nL 2938 0 \nL 2938 2094 \nQ 2938 2591 2744 2837 \nQ 2550 3084 2163 3084 \nQ 1697 3084 1428 2787 \nQ 1159 2491 1159 1978 \nL 1159 0 \nL 581 0 \nL 581 4863 \nL 1159 4863 \nL 1159 2956 \nQ 1366 3272 1645 3428 \nQ 1925 3584 2291 3584 \nQ 2894 3584 3203 3211 \nQ 3513 2838 3513 2113 \nz\n\" id=\"DejaVuSans-68\" transform=\"scale(0.015625)\"/>\n      <path d=\"M 1259 4147 \nL 1259 519 \nL 2022 519 \nQ 2988 519 3436 956 \nQ 3884 1394 3884 2338 \nQ 3884 3275 3436 3711 \nQ 2988 4147 2022 4147 \nL 1259 4147 \nz\nM 628 4666 \nL 1925 4666 \nQ 3281 4666 3915 4102 \nQ 4550 3538 4550 2338 \nQ 4550 1131 3912 565 \nQ 3275 0 1925 0 \nL 628 0 \nL 628 4666 \nz\n\" id=\"DejaVuSans-44\" transform=\"scale(0.015625)\"/>\n      <path d=\"M 603 3500 \nL 1178 3500 \nL 1178 0 \nL 603 0 \nL 603 3500 \nz\nM 603 4863 \nL 1178 4863 \nL 1178 4134 \nL 603 4134 \nL 603 4863 \nz\n\" id=\"DejaVuSans-69\" transform=\"scale(0.015625)\"/>\n      <path d=\"M 2834 3397 \nL 2834 2853 \nQ 2591 2978 2328 3040 \nQ 2066 3103 1784 3103 \nQ 1356 3103 1142 2972 \nQ 928 2841 928 2578 \nQ 928 2378 1081 2264 \nQ 1234 2150 1697 2047 \nL 1894 2003 \nQ 2506 1872 2764 1633 \nQ 3022 1394 3022 966 \nQ 3022 478 2636 193 \nQ 2250 -91 1575 -91 \nQ 1294 -91 989 -36 \nQ 684 19 347 128 \nL 347 722 \nQ 666 556 975 473 \nQ 1284 391 1588 391 \nQ 1994 391 2212 530 \nQ 2431 669 2431 922 \nQ 2431 1156 2273 1281 \nQ 2116 1406 1581 1522 \nL 1381 1569 \nQ 847 1681 609 1914 \nQ 372 2147 372 2553 \nQ 372 3047 722 3315 \nQ 1072 3584 1716 3584 \nQ 2034 3584 2315 3537 \nQ 2597 3491 2834 3397 \nz\n\" id=\"DejaVuSans-73\" transform=\"scale(0.015625)\"/>\n      <path d=\"M 2631 2963 \nQ 2534 3019 2420 3045 \nQ 2306 3072 2169 3072 \nQ 1681 3072 1420 2755 \nQ 1159 2438 1159 1844 \nL 1159 0 \nL 581 0 \nL 581 3500 \nL 1159 3500 \nL 1159 2956 \nQ 1341 3275 1631 3429 \nQ 1922 3584 2338 3584 \nQ 2397 3584 2469 3576 \nQ 2541 3569 2628 3553 \nL 2631 2963 \nz\n\" id=\"DejaVuSans-72\" transform=\"scale(0.015625)\"/>\n      <path d=\"M 3116 1747 \nQ 3116 2381 2855 2742 \nQ 2594 3103 2138 3103 \nQ 1681 3103 1420 2742 \nQ 1159 2381 1159 1747 \nQ 1159 1113 1420 752 \nQ 1681 391 2138 391 \nQ 2594 391 2855 752 \nQ 3116 1113 3116 1747 \nz\nM 1159 2969 \nQ 1341 3281 1617 3432 \nQ 1894 3584 2278 3584 \nQ 2916 3584 3314 3078 \nQ 3713 2572 3713 1747 \nQ 3713 922 3314 415 \nQ 2916 -91 2278 -91 \nQ 1894 -91 1617 61 \nQ 1341 213 1159 525 \nL 1159 0 \nL 581 0 \nL 581 4863 \nL 1159 4863 \nL 1159 2969 \nz\n\" id=\"DejaVuSans-62\" transform=\"scale(0.015625)\"/>\n      <path d=\"M 544 1381 \nL 544 3500 \nL 1119 3500 \nL 1119 1403 \nQ 1119 906 1312 657 \nQ 1506 409 1894 409 \nQ 2359 409 2629 706 \nQ 2900 1003 2900 1516 \nL 2900 3500 \nL 3475 3500 \nL 3475 0 \nL 2900 0 \nL 2900 538 \nQ 2691 219 2414 64 \nQ 2138 -91 1772 -91 \nQ 1169 -91 856 284 \nQ 544 659 544 1381 \nz\nM 1991 3584 \nL 1991 3584 \nz\n\" id=\"DejaVuSans-75\" transform=\"scale(0.015625)\"/>\n      <path d=\"M 1959 3097 \nQ 1497 3097 1228 2736 \nQ 959 2375 959 1747 \nQ 959 1119 1226 758 \nQ 1494 397 1959 397 \nQ 2419 397 2687 759 \nQ 2956 1122 2956 1747 \nQ 2956 2369 2687 2733 \nQ 2419 3097 1959 3097 \nz\nM 1959 3584 \nQ 2709 3584 3137 3096 \nQ 3566 2609 3566 1747 \nQ 3566 888 3137 398 \nQ 2709 -91 1959 -91 \nQ 1206 -91 779 398 \nQ 353 888 353 1747 \nQ 353 2609 779 3096 \nQ 1206 3584 1959 3584 \nz\n\" id=\"DejaVuSans-6f\" transform=\"scale(0.015625)\"/>\n     </defs>\n     <use xlink:href=\"#DejaVuSans-54\"/>\n     <use x=\"44.583984\" xlink:href=\"#DejaVuSans-77\"/>\n     <use x=\"126.371094\" xlink:href=\"#DejaVuSans-65\"/>\n     <use x=\"187.894531\" xlink:href=\"#DejaVuSans-65\"/>\n     <use x=\"249.417969\" xlink:href=\"#DejaVuSans-74\"/>\n     <use x=\"288.626953\" xlink:href=\"#DejaVuSans-20\"/>\n     <use x=\"320.414062\" xlink:href=\"#DejaVuSans-4c\"/>\n     <use x=\"374.376953\" xlink:href=\"#DejaVuSans-65\"/>\n     <use x=\"435.900391\" xlink:href=\"#DejaVuSans-6e\"/>\n     <use x=\"499.279297\" xlink:href=\"#DejaVuSans-67\"/>\n     <use x=\"562.755859\" xlink:href=\"#DejaVuSans-74\"/>\n     <use x=\"601.964844\" xlink:href=\"#DejaVuSans-68\"/>\n     <use x=\"665.34375\" xlink:href=\"#DejaVuSans-20\"/>\n     <use x=\"697.130859\" xlink:href=\"#DejaVuSans-44\"/>\n     <use x=\"774.132812\" xlink:href=\"#DejaVuSans-69\"/>\n     <use x=\"801.916016\" xlink:href=\"#DejaVuSans-73\"/>\n     <use x=\"854.015625\" xlink:href=\"#DejaVuSans-74\"/>\n     <use x=\"893.224609\" xlink:href=\"#DejaVuSans-72\"/>\n     <use x=\"934.337891\" xlink:href=\"#DejaVuSans-69\"/>\n     <use x=\"962.121094\" xlink:href=\"#DejaVuSans-62\"/>\n     <use x=\"1025.597656\" xlink:href=\"#DejaVuSans-75\"/>\n     <use x=\"1088.976562\" xlink:href=\"#DejaVuSans-74\"/>\n     <use x=\"1128.185547\" xlink:href=\"#DejaVuSans-69\"/>\n     <use x=\"1155.96875\" xlink:href=\"#DejaVuSans-6f\"/>\n     <use x=\"1217.150391\" xlink:href=\"#DejaVuSans-6e\"/>\n    </g>\n   </g>\n  </g>\n </g>\n <defs>\n  <clipPath id=\"p3edcf287db\">\n   <rect height=\"217.44\" width=\"334.8\" x=\"33.2875\" y=\"22.318125\"/>\n  </clipPath>\n </defs>\n</svg>\n",
      "image/png": "[encoded data removed]"
     },
     "metadata": {
      "needs_background": "light"
     }
    },
    {
     "output_type": "stream",
     "name": "stdout",
     "text": [
      "Maximum tweet length: 31\n"
     ]
    }
   ],
   "source": [
    "# Visualise tweet lengths\n",
    "tweet_lengths = df.tweet.map(lambda t: len(t))\n",
    "lengths, ccount = np.unique(tweet_lengths, return_counts=True)\n",
    "plt.figure()\n",
    "plt.title(\"Tweet Length Distribution\")\n",
    "plt.bar(lengths, ccount, align='center')\n",
    "plt.show()\n",
    "\n",
    "max_length = max(lengths)\n",
    "print(\"Maximum tweet length: {}\".format(max_length))"
   ]
  },
  {
   "source": [
    "## Word Embedding Preparation\n",
    "Load pre-trained word embedding models."
   ],
   "cell_type": "markdown",
   "metadata": {}
  },
  {
   "cell_type": "code",
   "execution_count": 6,
   "metadata": {
    "tags": []
   },
   "outputs": [
    {
     "output_type": "stream",
     "name": "stdout",
     "text": [
      "Loaded vectors from: vectors/fasttext/crawl-300d-2M.vec\n",
      "Embeddings loaded.\n",
      "Loaded vectors from: vectors/AffectVec-v1.0-vectors/AffectVec-data.txt\n",
      "Embeddings loaded.\n",
      "[[ 0.          0.          0.         ...  0.          0.\n",
      "   0.        ]\n",
      " [-0.27720001  0.0943      0.0701     ...  0.092       0.1203\n",
      "  -0.0231    ]\n",
      " [ 0.1284      0.19400001  0.0745     ...  0.048       0.2368\n",
      "   0.0653    ]\n",
      " ...\n",
      " [-0.2516     -0.44069999 -0.34189999 ...  0.0853     -0.087\n",
      "   0.0915    ]\n",
      " [-0.32749999  0.1715     -0.0161     ...  0.069      -0.0873\n",
      "  -0.0743    ]\n",
      " [-0.3777      0.30520001 -0.56       ...  0.          0.\n",
      "   0.        ]]\n",
      "(14760, 539)\n",
      "Vocabulary Size: 14759 - Embedding Dim: 539\n"
     ]
    }
   ],
   "source": [
    "embedding_weights = []\n",
    "vocab_size, embedding_size = 0, 0\n",
    "word_to_vector_id = {}\n",
    "\n",
    "# Load word embedding vectors and append together if more than one selected\n",
    "first_model = True\n",
    "for vector_type in SELECTED_VECTOR_TYPES:\n",
    "    vec_filename = VECTOR_FILENAMES[vector_type]\n",
    "    vec_model = gensim.models.KeyedVectors.load_word2vec_format(vec_filename, binary=(\"bin\" in vec_filename), no_header=(\"glove\" in vec_filename))\n",
    "    print(\"Loaded vectors from:\", VECTOR_FILENAMES[vector_type])\n",
    "\n",
    "    # Update the total size of each embedding\n",
    "    vec_length = vec_model.vectors.shape[1]\n",
    "    embedding_size += vec_length\n",
    "\n",
    "    # Update zeroth vector of embedding weights (not used by embedding layer)\n",
    "    if first_model:\n",
    "        embedding_weights = [np.zeros(vec_length)]\n",
    "    else:\n",
    "        embedding_weights[0] = np.append(embedding_weights[0], np.zeros((1, vec_length)))\n",
    "\n",
    "    # Only store the word embeddings required by looping over all words in the dataset\n",
    "    if first_model:\n",
    "        for tweet in df[\"tweet\"]:\n",
    "            for word in tweet:\n",
    "                if not word in word_to_vector_id:\n",
    "                    if word in vec_model:\n",
    "                        embedding_weights.append(vec_model[word])\n",
    "                        vocab_size += 1\n",
    "                        word_to_vector_id[word] = vocab_size\n",
    "                    else:\n",
    "                        word_to_vector_id[word] = 0 # Map unseen words to 0 (embedding layer masks 0 out)\n",
    "    else:\n",
    "        for word in word_to_vector_id:\n",
    "            if word_to_vector_id[word] == 0:\n",
    "                continue\n",
    "            if word in vec_model:\n",
    "                embedding_weights[word_to_vector_id[word]] = np.append(embedding_weights[word_to_vector_id[word]], vec_model[word])\n",
    "            else:\n",
    "                embedding_weights[word_to_vector_id[word]] = np.append(embedding_weights[word_to_vector_id[word]], np.zeros((1, vec_length)))\n",
    "\n",
    "    del vec_model\n",
    "    first_model = False\n",
    "    print(\"Embeddings loaded.\")\n",
    "\n",
    "embedding_weights = np.array(embedding_weights)\n",
    "print(embedding_weights)\n",
    "print(embedding_weights.shape)\n",
    "print(\"Vocabulary Size: {} - Embedding Dim: {}\".format(vocab_size, embedding_size))"
   ]
  },
  {
   "source": [
    "## Data Preparation\n",
    "Convert tweets into token IDs for the embedding layer of the LSTM and prepare datasets for training, validation and testing."
   ],
   "cell_type": "markdown",
   "metadata": {}
  },
  {
   "cell_type": "code",
   "execution_count": 7,
   "metadata": {},
   "outputs": [],
   "source": [
    "# Convert tweets to token IDs\n",
    "def get_data_from_df(dataframe):\n",
    "    set_x, set_y = [], []\n",
    "    for tweet, emotion in zip(dataframe.tweet, dataframe.emotion):\n",
    "        #words = np.array([main_model.key_to_index[word] if word in main_model else 0 for word in tweet])\n",
    "        words = np.array([word_to_vector_id[word] for word in tweet])\n",
    "        set_x.append(words)\n",
    "        if SELECTED_DATA in [\"ssec\", \"semeval\"]:\n",
    "            set_y.append([1 if k in emotion else 0 for k in emotion_dict])\n",
    "        else:\n",
    "            set_y.append(emotion_dict[emotion])\n",
    "    set_x = pad_sequences(set_x, maxlen=max_length, padding='pre', value=0)\n",
    "    set_y = np.array(set_y)\n",
    "    return set_x, set_y"
   ]
  },
  {
   "cell_type": "code",
   "execution_count": 8,
   "metadata": {},
   "outputs": [
    {
     "output_type": "stream",
     "name": "stdout",
     "text": [
      "Train Shapes - X: (6838, 31) - Y: (6838, 11)\nVal Shapes - X: (886, 31) - Y: (886, 11)\nTest Shapes - X: (3259, 31) - Y: (3259, 11)\n"
     ]
    }
   ],
   "source": [
    "# Convert train and test dataframes to data and labels\n",
    "train_x, train_y = get_data_from_df(df_train)\n",
    "test_x, test_y = get_data_from_df(df_test)\n",
    "\n",
    "# Get validation data\n",
    "if SELECTED_DATA == \"semeval\":\n",
    "    val_x, val_y = get_data_from_df(df_val)\n",
    "else:\n",
    "    n_val = int(VALID_PER * total_samples)\n",
    "    n_train = set_x.shape[0] - n_val\n",
    "    val_x = train_x[random_i[n_train:n_train+n_val]]\n",
    "    val_y = train_y[random_i[n_train:n_train+n_val]]\n",
    "    train_x = train_x[random_i[:n_train]]\n",
    "    train_y = train_y[random_i[:n_train]]\n",
    "\n",
    "print(\"Train Shapes - X: {} - Y: {}\".format(train_x.shape, train_y.shape))\n",
    "print(\"Val Shapes - X: {} - Y: {}\".format(val_x.shape, val_y.shape))\n",
    "print(\"Test Shapes - X: {} - Y: {}\".format(test_x.shape, test_y.shape))"
   ]
  },
  {
   "source": [
    "## Defining LSTM Model"
   ],
   "cell_type": "markdown",
   "metadata": {}
  },
  {
   "cell_type": "code",
   "execution_count": 9,
   "metadata": {},
   "outputs": [],
   "source": [
    "def prepare_model():\n",
    "\n",
    "    model = Sequential()\n",
    "\n",
    "    # Keras Embedding layer with Word2Vec weights initialization\n",
    "    model.add(Embedding(input_dim=vocab_size+1,\n",
    "                        output_dim=embedding_size,\n",
    "                        weights=[embedding_weights],\n",
    "                        input_length=max_length,\n",
    "                        mask_zero=True,\n",
    "                        trainable=False))\n",
    "\n",
    "    model.add(LSTM(175, dropout = 0.5, recurrent_dropout = 0.5))\n",
    "    #model.add(Dense(50, activation='relu'))\n",
    "    if SELECTED_DATA in [\"ssec\", \"semeval\"]:\n",
    "        model.add(Dense(n_emotions, activation='sigmoid'))\n",
    "        model.compile(optimizer='adam', loss='binary_crossentropy', metrics=['accuracy'])\n",
    "    else:\n",
    "        model.add(Dense(n_emotions, activation='softmax'))\n",
    "        model.compile(optimizer='adam', loss='sparse_categorical_crossentropy', metrics=['accuracy'])\n",
    "    model.summary()\n",
    "    return model\n",
    "\n",
    "def train_model():\n",
    "    return model.fit(train_x, train_y, epochs=8, batch_size=32, validation_data=(val_x, val_y), verbose=1)\n",
    "\n",
    "def plot_loss_and_accuracy():\n",
    "    plt.figure(figsize=(12, 12))\n",
    "    plt.plot(train_history.history['loss'])\n",
    "    plt.plot(train_history.history['val_loss'])\n",
    "    plt.title('Loss')\n",
    "    plt.legend(['train', 'val'], loc='upper left')\n",
    "    plt.show()\n",
    "\n",
    "    plt.figure(figsize=(12, 12))\n",
    "    plt.plot(train_history.history['accuracy'])\n",
    "    plt.plot(train_history.history['val_accuracy'])\n",
    "    plt.title('Accuracy')\n",
    "    plt.legend(['train', 'val'], loc='upper left')\n",
    "    plt.show()\n",
    "\n",
    "def evaluate():\n",
    "    # Get predictions of the model\n",
    "    preds = model.predict(test_x)\n",
    "    if SELECTED_DATA in [\"ssec\", \"semeval\"]:\n",
    "        preds[preds>=0.5] = 1\n",
    "        preds[preds<0.5] = 0\n",
    "    else:\n",
    "        preds = np.argmax(preds, axis=1)\n",
    "    scores = []\n",
    "    total_tp, total_pred, total_gold = 0, 0, 0\n",
    "    emotions = list(emotion_dict)\n",
    "    list.sort(emotions)\n",
    "\n",
    "    # Get precision, recall and F1\n",
    "    for emotion in emotions:\n",
    "        if SELECTED_DATA in [\"ssec\", \"semeval\"]:\n",
    "            preds_emotion = preds[:,emotion_dict[emotion]]\n",
    "            true_emotion = test_y[:,emotion_dict[emotion]]\n",
    "            total_pred += sum(preds_emotion)\n",
    "            total_gold += sum(true_emotion)\n",
    "            total_tp += sum(preds_emotion + true_emotion == 2)\n",
    "            prec = precision_score(preds_emotion, true_emotion, zero_division=0)\n",
    "            rec = recall_score(preds_emotion, true_emotion, zero_division=0)\n",
    "            f1 = f1_score(preds_emotion, true_emotion, zero_division=0)\n",
    "        else:\n",
    "            prec = precision_score(preds, val_y, labels=[emotion_dict[emotion]], average=None, zero_division=0)\n",
    "            rec = recall_score(preds, val_y, labels=[emotion_dict[emotion]], average=None, zero_division=0)\n",
    "            f1 = f1_score(preds, val_y, labels=[emotion_dict[emotion]], average=None, zero_division=0)\n",
    "        scores.append([emotion, prec, rec, f1])\n",
    "\n",
    "    # Get micro-F1 scores\n",
    "    if SELECTED_DATA in [\"ssec\", \"semeval\"]:\n",
    "        micro_prec = total_tp / total_pred\n",
    "        micro_rec = total_tp / total_gold\n",
    "        micro_f1 = (2 * micro_prec * micro_rec) / (micro_prec + micro_rec)\n",
    "    else:\n",
    "        micro_prec = precision_score(preds, val_y, average='micro', zero_division=0)\n",
    "        micro_rec = recall_score(preds, val_y, average='micro', zero_division=0)\n",
    "        micro_f1 = f1_score(preds, val_y, average='micro', zero_division=0)\n",
    "    scores.append([\"micro\", micro_prec, micro_rec, micro_f1])\n",
    "\n",
    "    # Get macro-F1 scores\n",
    "    macro_prec = sum([score[1] for score in scores])/len(scores)\n",
    "    macro_rec = sum([score[2] for score in scores])/len(scores)\n",
    "    macro_f1 = sum([score[3] for score in scores])/len(scores)\n",
    "    scores.append([\"macro\", macro_prec, macro_rec, macro_f1])\n",
    "\n",
    "    score_df = pd.DataFrame(scores, columns=[\"Emotion\", \"Precision\", \"Recall\", \"F-Score\"])\n",
    "    print(score_df)\n",
    "    return score_df"
   ]
  },
  {
   "cell_type": "code",
   "execution_count": 10,
   "metadata": {},
   "outputs": [
    {
     "output_type": "stream",
     "name": "stdout",
     "text": [
      "Model: \"sequential\"\n",
      "_________________________________________________________________\n",
      "Layer (type)                 Output Shape              Param #   \n",
      "=================================================================\n",
      "embedding (Embedding)        (None, 31, 539)           7955640   \n",
      "_________________________________________________________________\n",
      "lstm (LSTM)                  (None, 175)               500500    \n",
      "_________________________________________________________________\n",
      "dense (Dense)                (None, 11)                1936      \n",
      "=================================================================\n",
      "Total params: 8,458,076\n",
      "Trainable params: 502,436\n",
      "Non-trainable params: 7,955,640\n",
      "_________________________________________________________________\n",
      "Epoch 1/8\n",
      "214/214 [==============================] - 39s 166ms/step - loss: 0.4449 - accuracy: 0.3239 - val_loss: 0.3510 - val_accuracy: 0.3713\n",
      "Epoch 2/8\n",
      "214/214 [==============================] - 31s 145ms/step - loss: 0.3425 - accuracy: 0.3279 - val_loss: 0.3270 - val_accuracy: 0.3600\n",
      "Epoch 3/8\n",
      "214/214 [==============================] - 40s 189ms/step - loss: 0.3212 - accuracy: 0.3338 - val_loss: 0.3233 - val_accuracy: 0.3431\n",
      "Epoch 4/8\n",
      "214/214 [==============================] - 34s 158ms/step - loss: 0.3120 - accuracy: 0.3390 - val_loss: 0.3172 - val_accuracy: 0.3860\n",
      "Epoch 5/8\n",
      "214/214 [==============================] - 34s 161ms/step - loss: 0.3055 - accuracy: 0.3437 - val_loss: 0.3175 - val_accuracy: 0.3702\n",
      "Epoch 6/8\n",
      "214/214 [==============================] - 35s 161ms/step - loss: 0.2915 - accuracy: 0.3465 - val_loss: 0.3170 - val_accuracy: 0.3578\n",
      "Epoch 7/8\n",
      "214/214 [==============================] - 42s 196ms/step - loss: 0.2914 - accuracy: 0.3639 - val_loss: 0.3163 - val_accuracy: 0.3510\n",
      "Epoch 8/8\n",
      "214/214 [==============================] - 37s 174ms/step - loss: 0.2799 - accuracy: 0.3558 - val_loss: 0.3165 - val_accuracy: 0.3770\n"
     ]
    }
   ],
   "source": [
    "RUNS = 5\n",
    "score_dfs = []\n",
    "\n",
    "for i in range(RUNS):\n",
    "    model = prepare_model()\n",
    "    train_model()\n",
    "    score_dfs.append(evaluate())"
   ]
  },
  {
   "cell_type": "code",
   "execution_count": 11,
   "metadata": {},
   "outputs": [
    {
     "output_type": "stream",
     "name": "stdout",
     "text": [
      "Individual runs:\n         Emotion  Precision    Recall   F-Score\n0          anger   0.740236  0.787440  0.763109\n1   anticipation   0.047059  0.425532  0.084746\n2        disgust   0.707916  0.730516  0.719039\n3           fear   0.682474  0.793765  0.733925\n4            joy   0.772538  0.876475  0.821231\n5           love   0.476744  0.679558  0.560364\n6       optimism   0.652668  0.730656  0.689464\n7      pessimism   0.117333  0.611111  0.196868\n8        sadness   0.546875  0.801527  0.650155\n9       surprise   0.064706  0.647059  0.117647\n10         trust   0.039216  0.400000  0.071429\n11         micro   0.775640  0.589147  0.669652\n12         macro   0.468617  0.672732  0.506469\n\n\nAverage:\n         Emotion  Precision    Recall   F-Score\n0          anger   0.740236  0.787440  0.763109\n1   anticipation   0.047059  0.425532  0.084746\n2        disgust   0.707916  0.730516  0.719039\n3           fear   0.682474  0.793765  0.733925\n4            joy   0.772538  0.876475  0.821231\n5           love   0.476744  0.679558  0.560364\n6       optimism   0.652668  0.730656  0.689464\n7      pessimism   0.117333  0.611111  0.196868\n8        sadness   0.546875  0.801527  0.650155\n9       surprise   0.064706  0.647059  0.117647\n10         trust   0.039216  0.400000  0.071429\n11         micro   0.775640  0.589147  0.669652\n12         macro   0.468617  0.672732  0.506469\n"
     ]
    }
   ],
   "source": [
    "print(\"Individual runs:\")\n",
    "print(score_dfs[0])\n",
    "print()\n",
    "\n",
    "score_average = score_dfs[0].copy(deep=True)\n",
    "score_average[\"Precision\"] /= len(score_dfs)\n",
    "score_average[\"Recall\"] /= len(score_dfs)\n",
    "score_average[\"F-Score\"] /= len(score_dfs)\n",
    "\n",
    "for s in score_dfs[1:]:\n",
    "    score_average[\"Precision\"] += s[\"Precision\"]/len(score_dfs)\n",
    "    score_average[\"Recall\"] += s[\"Recall\"]/len(score_dfs)\n",
    "    score_average[\"F-Score\"] += s[\"F-Score\"]/len(score_dfs)\n",
    "    print(s)\n",
    "    print()\n",
    "\n",
    "print(\"\\nAverage:\")\n",
    "print(score_average)"
   ]
  },
  {
   "cell_type": "code",
   "execution_count": null,
   "metadata": {},
   "outputs": [],
   "source": []
  }
 ]
}